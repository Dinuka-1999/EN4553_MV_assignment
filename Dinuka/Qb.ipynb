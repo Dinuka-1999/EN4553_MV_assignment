{
 "cells": [
  {
   "cell_type": "markdown",
   "metadata": {},
   "source": [
    "## Loading Data"
   ]
  },
  {
   "cell_type": "code",
   "execution_count": 1,
   "metadata": {},
   "outputs": [
    {
     "name": "stderr",
     "output_type": "stream",
     "text": [
      "2023-12-10 00:36:08.403629: I tensorflow/core/util/port.cc:111] oneDNN custom operations are on. You may see slightly different numerical results due to floating-point round-off errors from different computation orders. To turn them off, set the environment variable `TF_ENABLE_ONEDNN_OPTS=0`.\n",
      "2023-12-10 00:36:08.446134: E tensorflow/compiler/xla/stream_executor/cuda/cuda_dnn.cc:9342] Unable to register cuDNN factory: Attempting to register factory for plugin cuDNN when one has already been registered\n",
      "2023-12-10 00:36:08.446165: E tensorflow/compiler/xla/stream_executor/cuda/cuda_fft.cc:609] Unable to register cuFFT factory: Attempting to register factory for plugin cuFFT when one has already been registered\n",
      "2023-12-10 00:36:08.446190: E tensorflow/compiler/xla/stream_executor/cuda/cuda_blas.cc:1518] Unable to register cuBLAS factory: Attempting to register factory for plugin cuBLAS when one has already been registered\n",
      "2023-12-10 00:36:08.454402: I tensorflow/core/platform/cpu_feature_guard.cc:182] This TensorFlow binary is optimized to use available CPU instructions in performance-critical operations.\n",
      "To enable the following instructions: AVX2 AVX512F AVX512_VNNI FMA, in other operations, rebuild TensorFlow with the appropriate compiler flags.\n",
      "/home/nima/miniconda3/envs/BrainNeoCare/lib/python3.9/site-packages/tqdm/auto.py:21: TqdmWarning: IProgress not found. Please update jupyter and ipywidgets. See https://ipywidgets.readthedocs.io/en/stable/user_install.html\n",
      "  from .autonotebook import tqdm as notebook_tqdm\n"
     ]
    }
   ],
   "source": [
    "import tensorflow as tf\n",
    "from tensorflow import keras\n",
    "import tensorflow_datasets as tfds\n",
    "from keras import layers\n",
    "from tensorflow import data as tf_data\n",
    "from keras.callbacks import EarlyStopping\n",
    "import matplotlib.pyplot as plt"
   ]
  },
  {
   "cell_type": "code",
   "execution_count": 2,
   "metadata": {},
   "outputs": [
    {
     "name": "stderr",
     "output_type": "stream",
     "text": [
      "2023-12-10 00:37:22.417803: I tensorflow/core/common_runtime/gpu/gpu_device.cc:1886] Created device /job:localhost/replica:0/task:0/device:GPU:0 with 14774 MB memory:  -> device: 0, name: Quadro RTX 5000, pci bus id: 0000:17:00.0, compute capability: 7.5\n",
      "2023-12-10 00:37:22.418370: I tensorflow/core/common_runtime/gpu/gpu_device.cc:1886] Created device /job:localhost/replica:0/task:0/device:GPU:1 with 4130 MB memory:  -> device: 1, name: Quadro RTX 5000, pci bus id: 0000:73:00.0, compute capability: 7.5\n"
     ]
    }
   ],
   "source": [
    "data_augmentation=keras.Sequential([\n",
    "    layers.RandomContrast(0.2),\n",
    "    layers.RandomFlip(\"horizontal\"),\n",
    "    layers.RandomRotation(0.2)\n",
    "])"
   ]
  },
  {
   "cell_type": "code",
   "execution_count": 3,
   "metadata": {},
   "outputs": [],
   "source": [
    "# tfds.disable_progress_bar()\n",
    "train_60,val_20,test_20=tfds.load(\"oxford_iiit_pet\",split=[\"train+test[:20%]\",\"test[20%:60%]\",\"test[60%:]\"],as_supervised=True)\n",
    "\n",
    "resizing=layers.Resizing(224,224)\n",
    "train_60=train_60.map(lambda x,y:(resizing(x),y),num_parallel_calls=tf_data.AUTOTUNE)\n",
    "val_20=val_20.map(lambda x,y:(resizing(x),y),num_parallel_calls=tf_data.AUTOTUNE)\n",
    "test_20=test_20.map(lambda x,y:(resizing(x),y),num_parallel_calls=tf_data.AUTOTUNE)\n",
    "\n",
    "train_60_1=train_60.map(lambda x,y:(data_augmentation(x,training=True),y),num_parallel_calls=tf_data.AUTOTUNE)\n",
    "\n",
    "train_60=train_60.concatenate(train_60_1).shuffle(1000)\n",
    "\n",
    "batch_size = 128\n",
    "\n",
    "train_60 = train_60.batch(batch_size).prefetch(tf_data.AUTOTUNE).cache()\n",
    "val_20 = val_20.batch(batch_size).prefetch(tf_data.AUTOTUNE).cache()\n",
    "test_20 = test_20.batch(batch_size).prefetch(tf_data.AUTOTUNE).cache()"
   ]
  },
  {
   "cell_type": "code",
   "execution_count": 2,
   "metadata": {},
   "outputs": [],
   "source": [
    "train,test=tfds.load(\"oxford_iiit_pet\",split=[\"train\",\"test\"],as_supervised=True)\n",
    "\n",
    "resizing=layers.Resizing(224,224)\n",
    "train=train.map(lambda x,y:(resizing(x),y))\n",
    "test=test.map(lambda x,y:(resizing(x),y))\n",
    "\n",
    "batch_size = 64\n",
    "\n",
    "train = train.batch(batch_size).prefetch(tf_data.AUTOTUNE).cache()\n",
    "test = test.batch(batch_size).prefetch(tf_data.AUTOTUNE).cache()"
   ]
  },
  {
   "cell_type": "code",
   "execution_count": 5,
   "metadata": {},
   "outputs": [],
   "source": [
    "F10_train=tfds.load(\"oxford_iiit_pet\",split=[f\"train[:{r}%]+train[{r+10}%:]\" for r in range(0,100,10)],as_supervised=True)\n",
    "F10_val=tfds.load(\"oxford_iiit_pet\",split=[f\"train[{r}%:{r+10}%]\" for r in range(0,100,10)],as_supervised=True)"
   ]
  },
  {
   "cell_type": "markdown",
   "metadata": {},
   "source": [
    "## Model"
   ]
  },
  {
   "cell_type": "code",
   "execution_count": 4,
   "metadata": {},
   "outputs": [],
   "source": [
    "base_model=keras.applications.ResNet50(include_top=False,weights=\"imagenet\",input_shape=(224,224,3),pooling=\"avg\")"
   ]
  },
  {
   "cell_type": "code",
   "execution_count": 5,
   "metadata": {},
   "outputs": [],
   "source": [
    "base_model.trainable=False"
   ]
  },
  {
   "cell_type": "code",
   "execution_count": 6,
   "metadata": {},
   "outputs": [],
   "source": [
    "inputs=keras.Input(shape=(224,224,3))   \n",
    "preprocessing=tf.keras.applications.resnet.preprocess_input(inputs)\n",
    "x=base_model(preprocessing, training=False)\n",
    "x=layers.Dense(256,activation=\"relu\")(x)\n",
    "x=layers.Dropout(0.5)(x)    \n",
    "outputs=layers.Dense(37)(x)\n",
    "\n",
    "model=keras.Model(inputs,outputs)\n",
    "\n",
    "loss_fn=keras.losses.SparseCategoricalCrossentropy(from_logits=True)\n",
    "optimizers=keras.optimizers.Adam(learning_rate=0.0002,weight_decay=0.0005)\n",
    "\n",
    "model.compile(optimizer=optimizers,loss=loss_fn,metrics=[keras.metrics.SparseTopKCategoricalAccuracy( k=1, name=\"accuracy\")])"
   ]
  },
  {
   "cell_type": "code",
   "execution_count": 7,
   "metadata": {},
   "outputs": [
    {
     "name": "stdout",
     "output_type": "stream",
     "text": [
      "Model: \"model\"\n",
      "____________________________________________________________________________\n",
      " Layer (type)                Output Shape              Param #   Trainable  \n",
      "============================================================================\n",
      " input_2 (InputLayer)        [(None, 224, 224, 3)]     0         Y          \n",
      "                                                                            \n",
      " tf.__operators__.getitem (  (None, 224, 224, 3)       0         Y          \n",
      " SlicingOpLambda)                                                           \n",
      "                                                                            \n",
      " tf.nn.bias_add (TFOpLambda  (None, 224, 224, 3)       0         Y          \n",
      " )                                                                          \n",
      "                                                                            \n",
      " resnet50 (Functional)       (None, 2048)              2358771   N          \n",
      "                                                       2                    \n",
      "                                                                            \n",
      " dense (Dense)               (None, 256)               524544    Y          \n",
      "                                                                            \n",
      " dropout (Dropout)           (None, 256)               0         Y          \n",
      "                                                                            \n",
      " dense_1 (Dense)             (None, 37)                9509      Y          \n",
      "                                                                            \n",
      "============================================================================\n",
      "Total params: 24121765 (92.02 MB)\n",
      "Trainable params: 534053 (2.04 MB)\n",
      "Non-trainable params: 23587712 (89.98 MB)\n",
      "____________________________________________________________________________\n"
     ]
    }
   ],
   "source": [
    "model.summary(show_trainable=True) "
   ]
  },
  {
   "cell_type": "code",
   "execution_count": 8,
   "metadata": {},
   "outputs": [
    {
     "name": "stdout",
     "output_type": "stream",
     "text": [
      "Epoch 1/50\n"
     ]
    },
    {
     "name": "stderr",
     "output_type": "stream",
     "text": [
      "Corrupt JPEG data: 240 extraneous bytes before marker 0xd9\n",
      "Corrupt JPEG data: premature end of data segment\n",
      "2023-12-10 00:17:10.815856: I tensorflow/compiler/xla/stream_executor/cuda/cuda_dnn.cc:442] Loaded cuDNN version 8700\n",
      "2023-12-10 00:17:14.471263: I tensorflow/compiler/xla/service/service.cc:168] XLA service 0x7fdb8800cbb0 initialized for platform CUDA (this does not guarantee that XLA will be used). Devices:\n",
      "2023-12-10 00:17:14.471336: I tensorflow/compiler/xla/service/service.cc:176]   StreamExecutor device (0): Quadro RTX 5000, Compute Capability 7.5\n",
      "2023-12-10 00:17:14.471360: I tensorflow/compiler/xla/service/service.cc:176]   StreamExecutor device (1): Quadro RTX 5000, Compute Capability 7.5\n",
      "2023-12-10 00:17:14.489563: I tensorflow/compiler/mlir/tensorflow/utils/dump_mlir_util.cc:269] disabling MLIR crash reproducer, set env var `MLIR_CRASH_REPRODUCER_DIRECTORY` to enable.\n",
      "2023-12-10 00:17:14.635273: I ./tensorflow/compiler/jit/device_compiler.h:186] Compiled cluster using XLA!  This line is logged at most once for the lifetime of the process.\n"
     ]
    },
    {
     "name": "stdout",
     "output_type": "stream",
     "text": [
      "31/69 [============>.................] - ETA: 9s - loss: 3.2754 - accuracy: 0.1578"
     ]
    },
    {
     "name": "stderr",
     "output_type": "stream",
     "text": [
      "Corrupt JPEG data: 240 extraneous bytes before marker 0xd9\n",
      "Corrupt JPEG data: premature end of data segment\n"
     ]
    },
    {
     "name": "stdout",
     "output_type": "stream",
     "text": [
      "69/69 [==============================] - 34s 370ms/step - loss: 2.6385 - accuracy: 0.3100 - val_loss: 1.0983 - val_accuracy: 0.7873\n",
      "Epoch 2/50\n",
      "69/69 [==============================] - 21s 298ms/step - loss: 1.1565 - accuracy: 0.6675 - val_loss: 0.6052 - val_accuracy: 0.8521\n",
      "Epoch 3/50\n",
      "69/69 [==============================] - 19s 273ms/step - loss: 0.7532 - accuracy: 0.7797 - val_loss: 0.4776 - val_accuracy: 0.8698\n",
      "Epoch 4/50\n",
      "69/69 [==============================] - 18s 267ms/step - loss: 0.6003 - accuracy: 0.8198 - val_loss: 0.4137 - val_accuracy: 0.8834\n",
      "Epoch 5/50\n",
      "69/69 [==============================] - 18s 264ms/step - loss: 0.4851 - accuracy: 0.8527 - val_loss: 0.3951 - val_accuracy: 0.8793\n",
      "Epoch 6/50\n",
      "69/69 [==============================] - 18s 263ms/step - loss: 0.4142 - accuracy: 0.8742 - val_loss: 0.3751 - val_accuracy: 0.8862\n",
      "Epoch 7/50\n",
      "69/69 [==============================] - 18s 268ms/step - loss: 0.3585 - accuracy: 0.8896 - val_loss: 0.3679 - val_accuracy: 0.8903\n",
      "Epoch 8/50\n",
      "69/69 [==============================] - 18s 260ms/step - loss: 0.3216 - accuracy: 0.9026 - val_loss: 0.3547 - val_accuracy: 0.8930\n",
      "Epoch 9/50\n",
      "69/69 [==============================] - 18s 260ms/step - loss: 0.2903 - accuracy: 0.9092 - val_loss: 0.3439 - val_accuracy: 0.8896\n",
      "Epoch 10/50\n",
      "69/69 [==============================] - 18s 258ms/step - loss: 0.2498 - accuracy: 0.9251 - val_loss: 0.3468 - val_accuracy: 0.8950\n",
      "Epoch 11/50\n",
      "69/69 [==============================] - 18s 264ms/step - loss: 0.2286 - accuracy: 0.9283 - val_loss: 0.3515 - val_accuracy: 0.8862\n",
      "Epoch 12/50\n",
      "69/69 [==============================] - 18s 264ms/step - loss: 0.2149 - accuracy: 0.9372 - val_loss: 0.3424 - val_accuracy: 0.8923\n",
      "Epoch 13/50\n",
      "69/69 [==============================] - 18s 255ms/step - loss: 0.1928 - accuracy: 0.9455 - val_loss: 0.3428 - val_accuracy: 0.8950\n",
      "Epoch 14/50\n",
      "69/69 [==============================] - 18s 259ms/step - loss: 0.1781 - accuracy: 0.9494 - val_loss: 0.3392 - val_accuracy: 0.8916\n",
      "Epoch 15/50\n",
      "69/69 [==============================] - 18s 257ms/step - loss: 0.1619 - accuracy: 0.9524 - val_loss: 0.3356 - val_accuracy: 0.8950\n",
      "Epoch 16/50\n",
      "69/69 [==============================] - 18s 262ms/step - loss: 0.1532 - accuracy: 0.9564 - val_loss: 0.3374 - val_accuracy: 0.8937\n",
      "Epoch 17/50\n",
      "69/69 [==============================] - 18s 263ms/step - loss: 0.1365 - accuracy: 0.9619 - val_loss: 0.3364 - val_accuracy: 0.8957\n",
      "Epoch 18/50\n",
      "69/69 [==============================] - 18s 255ms/step - loss: 0.1306 - accuracy: 0.9650 - val_loss: 0.3407 - val_accuracy: 0.8957\n",
      "Epoch 19/50\n",
      "69/69 [==============================] - 18s 258ms/step - loss: 0.1217 - accuracy: 0.9668 - val_loss: 0.3355 - val_accuracy: 0.8943\n",
      "Epoch 20/50\n",
      "69/69 [==============================] - 18s 256ms/step - loss: 0.1090 - accuracy: 0.9712 - val_loss: 0.3411 - val_accuracy: 0.8916\n",
      "Epoch 21/50\n",
      "69/69 [==============================] - 18s 257ms/step - loss: 0.1036 - accuracy: 0.9738 - val_loss: 0.3447 - val_accuracy: 0.8964\n",
      "Epoch 22/50\n",
      "69/69 [==============================] - 18s 262ms/step - loss: 0.0982 - accuracy: 0.9771 - val_loss: 0.3386 - val_accuracy: 0.8916\n",
      "Epoch 23/50\n",
      "69/69 [==============================] - 18s 255ms/step - loss: 0.0946 - accuracy: 0.9763 - val_loss: 0.3414 - val_accuracy: 0.8937\n",
      "Epoch 24/50\n",
      "69/69 [==============================] - 18s 264ms/step - loss: 0.0857 - accuracy: 0.9796 - val_loss: 0.3466 - val_accuracy: 0.8943\n",
      "Epoch 25/50\n",
      "69/69 [==============================] - 18s 255ms/step - loss: 0.0769 - accuracy: 0.9830 - val_loss: 0.3456 - val_accuracy: 0.8943\n",
      "Epoch 26/50\n",
      "69/69 [==============================] - 18s 259ms/step - loss: 0.0802 - accuracy: 0.9815 - val_loss: 0.3383 - val_accuracy: 0.8950\n",
      "Epoch 27/50\n",
      "69/69 [==============================] - 18s 256ms/step - loss: 0.0713 - accuracy: 0.9838 - val_loss: 0.3461 - val_accuracy: 0.8943\n",
      "Epoch 28/50\n",
      "69/69 [==============================] - 18s 256ms/step - loss: 0.0706 - accuracy: 0.9840 - val_loss: 0.3435 - val_accuracy: 0.8950\n",
      "Epoch 29/50\n",
      "69/69 [==============================] - 18s 262ms/step - loss: 0.0644 - accuracy: 0.9858 - val_loss: 0.3534 - val_accuracy: 0.8868\n",
      "Epoch 30/50\n",
      "69/69 [==============================] - 18s 257ms/step - loss: 0.0626 - accuracy: 0.9863 - val_loss: 0.3546 - val_accuracy: 0.8950\n",
      "Epoch 31/50\n",
      "69/69 [==============================] - 18s 259ms/step - loss: 0.0545 - accuracy: 0.9891 - val_loss: 0.3512 - val_accuracy: 0.8930\n",
      "Epoch 32/50\n",
      "69/69 [==============================] - 18s 261ms/step - loss: 0.0550 - accuracy: 0.9874 - val_loss: 0.3589 - val_accuracy: 0.8930\n",
      "Epoch 33/50\n",
      "69/69 [==============================] - 18s 256ms/step - loss: 0.0527 - accuracy: 0.9880 - val_loss: 0.3541 - val_accuracy: 0.8984\n",
      "Epoch 34/50\n",
      "69/69 [==============================] - 18s 259ms/step - loss: 0.0499 - accuracy: 0.9897 - val_loss: 0.3465 - val_accuracy: 0.8930\n",
      "Epoch 35/50\n",
      "69/69 [==============================] - 18s 256ms/step - loss: 0.0472 - accuracy: 0.9901 - val_loss: 0.3538 - val_accuracy: 0.8950\n",
      "Epoch 36/50\n",
      "69/69 [==============================] - 18s 255ms/step - loss: 0.0478 - accuracy: 0.9896 - val_loss: 0.3520 - val_accuracy: 0.8957\n",
      "Epoch 37/50\n",
      "69/69 [==============================] - 18s 258ms/step - loss: 0.0441 - accuracy: 0.9907 - val_loss: 0.3584 - val_accuracy: 0.8984\n",
      "Epoch 38/50\n",
      "69/69 [==============================] - 18s 262ms/step - loss: 0.0436 - accuracy: 0.9909 - val_loss: 0.3516 - val_accuracy: 0.8950\n",
      "Epoch 39/50\n",
      "69/69 [==============================] - 18s 256ms/step - loss: 0.0407 - accuracy: 0.9916 - val_loss: 0.3568 - val_accuracy: 0.8984\n",
      "Epoch 40/50\n",
      "69/69 [==============================] - 18s 260ms/step - loss: 0.0392 - accuracy: 0.9920 - val_loss: 0.3648 - val_accuracy: 0.8903\n",
      "Epoch 41/50\n",
      "69/69 [==============================] - 18s 259ms/step - loss: 0.0361 - accuracy: 0.9931 - val_loss: 0.3714 - val_accuracy: 0.8930\n",
      "Epoch 42/50\n",
      "69/69 [==============================] - 18s 258ms/step - loss: 0.0340 - accuracy: 0.9943 - val_loss: 0.3688 - val_accuracy: 0.8916\n",
      "Epoch 43/50\n",
      "69/69 [==============================] - 18s 264ms/step - loss: 0.0344 - accuracy: 0.9935 - val_loss: 0.3660 - val_accuracy: 0.8950\n",
      "Epoch 44/50\n",
      "69/69 [==============================] - 18s 261ms/step - loss: 0.0319 - accuracy: 0.9938 - val_loss: 0.3696 - val_accuracy: 0.8937\n",
      "Epoch 45/50\n",
      "69/69 [==============================] - 18s 261ms/step - loss: 0.0277 - accuracy: 0.9959 - val_loss: 0.3708 - val_accuracy: 0.8950\n",
      "Epoch 46/50\n",
      "69/69 [==============================] - 18s 268ms/step - loss: 0.0289 - accuracy: 0.9963 - val_loss: 0.3740 - val_accuracy: 0.8937\n",
      "Epoch 47/50\n",
      "69/69 [==============================] - 18s 262ms/step - loss: 0.0304 - accuracy: 0.9938 - val_loss: 0.3753 - val_accuracy: 0.8957\n",
      "Epoch 48/50\n",
      "69/69 [==============================] - 18s 264ms/step - loss: 0.0269 - accuracy: 0.9957 - val_loss: 0.3765 - val_accuracy: 0.8964\n",
      "Epoch 49/50\n",
      "69/69 [==============================] - 18s 267ms/step - loss: 0.0266 - accuracy: 0.9961 - val_loss: 0.3804 - val_accuracy: 0.8984\n",
      "Epoch 50/50\n",
      "69/69 [==============================] - 18s 262ms/step - loss: 0.0258 - accuracy: 0.9958 - val_loss: 0.3741 - val_accuracy: 0.8957\n"
     ]
    }
   ],
   "source": [
    "callback=EarlyStopping(monitor=\"val_loss\",patience=5,restore_best_weights=True)\n",
    "history=model.fit(train_60,epochs=50,validation_data=val_20)"
   ]
  },
  {
   "cell_type": "code",
   "execution_count": 11,
   "metadata": {},
   "outputs": [
    {
     "name": "stdout",
     "output_type": "stream",
     "text": [
      "12/12 [==============================] - 2s 192ms/step - loss: 0.2746 - accuracy: 0.9149\n"
     ]
    },
    {
     "data": {
      "text/plain": [
       "[0.2746414244174957, 0.914850115776062]"
      ]
     },
     "execution_count": 11,
     "metadata": {},
     "output_type": "execute_result"
    }
   ],
   "source": [
    "model.evaluate(test_20)   "
   ]
  },
  {
   "cell_type": "code",
   "execution_count": 14,
   "metadata": {},
   "outputs": [
    {
     "name": "stderr",
     "output_type": "stream",
     "text": [
      "/home/nima/miniconda3/envs/BrainNeoCare/lib/python3.9/site-packages/keras/src/engine/training.py:3079: UserWarning: You are saving your model as an HDF5 file via `model.save()`. This file format is considered legacy. We recommend using instead the native Keras format, e.g. `model.save('my_model.keras')`.\n",
      "  saving_api.save_model(\n"
     ]
    }
   ],
   "source": [
    "model.save(\"model.h5\")"
   ]
  },
  {
   "cell_type": "code",
   "execution_count": 4,
   "metadata": {},
   "outputs": [],
   "source": [
    "model=keras.models.load_model(\"model.h5\")"
   ]
  },
  {
   "cell_type": "code",
   "execution_count": 5,
   "metadata": {},
   "outputs": [
    {
     "name": "stderr",
     "output_type": "stream",
     "text": [
      "2023-12-10 00:40:14.208189: I tensorflow/compiler/xla/stream_executor/cuda/cuda_dnn.cc:442] Loaded cuDNN version 8700\n"
     ]
    },
    {
     "name": "stdout",
     "output_type": "stream",
     "text": [
      "12/12 [==============================] - 9s 333ms/step - loss: 0.2746 - accuracy: 0.9149\n"
     ]
    },
    {
     "data": {
      "text/plain": [
       "[0.2746414244174957, 0.914850115776062]"
      ]
     },
     "execution_count": 5,
     "metadata": {},
     "output_type": "execute_result"
    }
   ],
   "source": [
    "model.evaluate(test_20)"
   ]
  },
  {
   "cell_type": "code",
   "execution_count": 6,
   "metadata": {},
   "outputs": [
    {
     "name": "stdout",
     "output_type": "stream",
     "text": [
      "Model: \"model\"\n",
      "____________________________________________________________________________\n",
      " Layer (type)                Output Shape              Param #   Trainable  \n",
      "============================================================================\n",
      " input_2 (InputLayer)        [(None, 224, 224, 3)]     0         Y          \n",
      "                                                                            \n",
      " tf.__operators__.getitem (  (None, 224, 224, 3)       0         Y          \n",
      " SlicingOpLambda)                                                           \n",
      "                                                                            \n",
      " tf.nn.bias_add (TFOpLambda  (None, 224, 224, 3)       0         Y          \n",
      " )                                                                          \n",
      "                                                                            \n",
      " resnet50 (Functional)       (None, 2048)              2358771   Y          \n",
      "                                                       2                    \n",
      "                                                                            \n",
      " dense (Dense)               (None, 256)               524544    Y          \n",
      "                                                                            \n",
      " dropout (Dropout)           (None, 256)               0         Y          \n",
      "                                                                            \n",
      " dense_1 (Dense)             (None, 37)                9509      Y          \n",
      "                                                                            \n",
      "============================================================================\n",
      "Total params: 24121765 (92.02 MB)\n",
      "Trainable params: 534053 (2.04 MB)\n",
      "Non-trainable params: 23587712 (89.98 MB)\n",
      "____________________________________________________________________________\n"
     ]
    }
   ],
   "source": [
    "model.summary(show_trainable=True)"
   ]
  },
  {
   "cell_type": "code",
   "execution_count": 7,
   "metadata": {},
   "outputs": [
    {
     "name": "stdout",
     "output_type": "stream",
     "text": [
      "Model: \"model\"\n",
      "____________________________________________________________________________\n",
      " Layer (type)                Output Shape              Param #   Trainable  \n",
      "============================================================================\n",
      " input_2 (InputLayer)        [(None, 224, 224, 3)]     0         Y          \n",
      "                                                                            \n",
      " tf.__operators__.getitem (  (None, 224, 224, 3)       0         Y          \n",
      " SlicingOpLambda)                                                           \n",
      "                                                                            \n",
      " tf.nn.bias_add (TFOpLambda  (None, 224, 224, 3)       0         Y          \n",
      " )                                                                          \n",
      "                                                                            \n",
      " resnet50 (Functional)       (None, 2048)              2358771   Y          \n",
      "                                                       2                    \n",
      "                                                                            \n",
      " dense (Dense)               (None, 256)               524544    Y          \n",
      "                                                                            \n",
      " dropout (Dropout)           (None, 256)               0         Y          \n",
      "                                                                            \n",
      " dense_1 (Dense)             (None, 37)                9509      Y          \n",
      "                                                                            \n",
      "============================================================================\n",
      "Total params: 24121765 (92.02 MB)\n",
      "Trainable params: 24068645 (91.81 MB)\n",
      "Non-trainable params: 53120 (207.50 KB)\n",
      "____________________________________________________________________________\n"
     ]
    }
   ],
   "source": [
    "model.trainable=True\n",
    "model.summary(show_trainable=True)"
   ]
  },
  {
   "cell_type": "code",
   "execution_count": 8,
   "metadata": {},
   "outputs": [],
   "source": [
    "loss_fn=keras.losses.SparseCategoricalCrossentropy(from_logits=True)\n",
    "optimizers=keras.optimizers.Adam(learning_rate=0.000001)\n",
    "\n",
    "model.compile(optimizer=optimizers,loss=loss_fn,metrics=[keras.metrics.SparseTopKCategoricalAccuracy( k=1, name=\"accuracy\")])"
   ]
  },
  {
   "cell_type": "code",
   "execution_count": 9,
   "metadata": {},
   "outputs": [
    {
     "name": "stdout",
     "output_type": "stream",
     "text": [
      "Epoch 1/50\n"
     ]
    },
    {
     "name": "stderr",
     "output_type": "stream",
     "text": [
      "Corrupt JPEG data: 240 extraneous bytes before marker 0xd9\n",
      "Corrupt JPEG data: premature end of data segment\n",
      "2023-12-10 00:42:21.173842: I tensorflow/compiler/xla/service/service.cc:168] XLA service 0x7fa23431d7e0 initialized for platform CUDA (this does not guarantee that XLA will be used). Devices:\n",
      "2023-12-10 00:42:21.173882: I tensorflow/compiler/xla/service/service.cc:176]   StreamExecutor device (0): Quadro RTX 5000, Compute Capability 7.5\n",
      "2023-12-10 00:42:21.173887: I tensorflow/compiler/xla/service/service.cc:176]   StreamExecutor device (1): Quadro RTX 5000, Compute Capability 7.5\n",
      "2023-12-10 00:42:21.179583: I tensorflow/compiler/mlir/tensorflow/utils/dump_mlir_util.cc:269] disabling MLIR crash reproducer, set env var `MLIR_CRASH_REPRODUCER_DIRECTORY` to enable.\n",
      "2023-12-10 00:42:21.327460: I ./tensorflow/compiler/jit/device_compiler.h:186] Compiled cluster using XLA!  This line is logged at most once for the lifetime of the process.\n",
      "2023-12-10 00:42:25.826891: W tensorflow/tsl/framework/bfc_allocator.cc:296] Allocator (GPU_0_bfc) ran out of memory trying to allocate 4.78GiB with freed_by_count=0. The caller indicates that this is not a failure, but this may mean that there could be performance gains if more memory were available.\n",
      "2023-12-10 00:42:25.826945: W tensorflow/tsl/framework/bfc_allocator.cc:296] Allocator (GPU_0_bfc) ran out of memory trying to allocate 4.78GiB with freed_by_count=0. The caller indicates that this is not a failure, but this may mean that there could be performance gains if more memory were available.\n"
     ]
    },
    {
     "name": "stdout",
     "output_type": "stream",
     "text": [
      "29/69 [===========>..................] - ETA: 29s - loss: 0.0210 - accuracy: 0.9954"
     ]
    },
    {
     "name": "stderr",
     "output_type": "stream",
     "text": [
      "Corrupt JPEG data: 240 extraneous bytes before marker 0xd9\n",
      "Corrupt JPEG data: premature end of data segment\n"
     ]
    },
    {
     "name": "stdout",
     "output_type": "stream",
     "text": [
      "68/69 [============================>.] - ETA: 0s - loss: 0.0963 - accuracy: 0.9720"
     ]
    },
    {
     "name": "stderr",
     "output_type": "stream",
     "text": [
      "2023-12-10 00:43:33.371913: W tensorflow/tsl/framework/bfc_allocator.cc:296] Allocator (GPU_0_bfc) ran out of memory trying to allocate 4.77GiB with freed_by_count=0. The caller indicates that this is not a failure, but this may mean that there could be performance gains if more memory were available.\n",
      "2023-12-10 00:43:33.371964: W tensorflow/tsl/framework/bfc_allocator.cc:296] Allocator (GPU_0_bfc) ran out of memory trying to allocate 4.77GiB with freed_by_count=0. The caller indicates that this is not a failure, but this may mean that there could be performance gains if more memory were available.\n"
     ]
    },
    {
     "name": "stdout",
     "output_type": "stream",
     "text": [
      "69/69 [==============================] - 94s 882ms/step - loss: 0.0976 - accuracy: 0.9711 - val_loss: 0.3655 - val_accuracy: 0.8991\n",
      "Epoch 2/50\n",
      "69/69 [==============================] - 55s 798ms/step - loss: 0.0747 - accuracy: 0.9771 - val_loss: 0.3714 - val_accuracy: 0.9012\n",
      "Epoch 3/50\n",
      "69/69 [==============================] - 55s 794ms/step - loss: 0.0648 - accuracy: 0.9802 - val_loss: 0.3752 - val_accuracy: 0.8991\n",
      "Epoch 4/50\n",
      "69/69 [==============================] - 54s 788ms/step - loss: 0.0628 - accuracy: 0.9806 - val_loss: 0.3779 - val_accuracy: 0.9005\n",
      "Epoch 5/50\n",
      "69/69 [==============================] - 55s 790ms/step - loss: 0.0571 - accuracy: 0.9818 - val_loss: 0.3782 - val_accuracy: 0.9025\n",
      "Epoch 6/50\n",
      "69/69 [==============================] - 54s 790ms/step - loss: 0.0460 - accuracy: 0.9857 - val_loss: 0.3870 - val_accuracy: 0.8978\n",
      "Epoch 7/50\n",
      "69/69 [==============================] - 54s 782ms/step - loss: 0.0467 - accuracy: 0.9849 - val_loss: 0.3834 - val_accuracy: 0.8978\n",
      "Epoch 8/50\n",
      "69/69 [==============================] - 54s 782ms/step - loss: 0.0389 - accuracy: 0.9889 - val_loss: 0.3905 - val_accuracy: 0.9012\n",
      "Epoch 9/50\n",
      "69/69 [==============================] - 53s 773ms/step - loss: 0.0369 - accuracy: 0.9896 - val_loss: 0.3946 - val_accuracy: 0.8991\n",
      "Epoch 10/50\n",
      "69/69 [==============================] - 54s 782ms/step - loss: 0.0376 - accuracy: 0.9889 - val_loss: 0.3922 - val_accuracy: 0.8998\n",
      "Epoch 11/50\n",
      "69/69 [==============================] - 54s 780ms/step - loss: 0.0327 - accuracy: 0.9907 - val_loss: 0.3968 - val_accuracy: 0.9012\n",
      "Epoch 12/50\n",
      "69/69 [==============================] - 53s 771ms/step - loss: 0.0330 - accuracy: 0.9901 - val_loss: 0.3968 - val_accuracy: 0.8998\n",
      "Epoch 13/50\n",
      "69/69 [==============================] - 53s 773ms/step - loss: 0.0270 - accuracy: 0.9918 - val_loss: 0.3985 - val_accuracy: 0.9052\n",
      "Epoch 14/50\n",
      "69/69 [==============================] - 53s 773ms/step - loss: 0.0250 - accuracy: 0.9933 - val_loss: 0.4086 - val_accuracy: 0.8991\n",
      "Epoch 15/50\n",
      "69/69 [==============================] - 54s 777ms/step - loss: 0.0215 - accuracy: 0.9952 - val_loss: 0.4065 - val_accuracy: 0.9018\n",
      "Epoch 16/50\n",
      "69/69 [==============================] - 53s 773ms/step - loss: 0.0235 - accuracy: 0.9931 - val_loss: 0.4159 - val_accuracy: 0.8978\n",
      "Epoch 17/50\n",
      "69/69 [==============================] - 53s 769ms/step - loss: 0.0234 - accuracy: 0.9928 - val_loss: 0.4119 - val_accuracy: 0.9052\n",
      "Epoch 18/50\n",
      "69/69 [==============================] - 53s 773ms/step - loss: 0.0222 - accuracy: 0.9934 - val_loss: 0.4082 - val_accuracy: 0.9018\n",
      "Epoch 19/50\n",
      "69/69 [==============================] - 53s 770ms/step - loss: 0.0204 - accuracy: 0.9942 - val_loss: 0.4126 - val_accuracy: 0.9046\n",
      "Epoch 20/50\n",
      "69/69 [==============================] - 53s 773ms/step - loss: 0.0201 - accuracy: 0.9954 - val_loss: 0.4145 - val_accuracy: 0.9039\n",
      "Epoch 21/50\n",
      "69/69 [==============================] - 53s 773ms/step - loss: 0.0165 - accuracy: 0.9960 - val_loss: 0.4213 - val_accuracy: 0.9039\n",
      "Epoch 22/50\n",
      "69/69 [==============================] - 53s 770ms/step - loss: 0.0182 - accuracy: 0.9950 - val_loss: 0.4196 - val_accuracy: 0.9032\n",
      "Epoch 23/50\n",
      "69/69 [==============================] - 53s 772ms/step - loss: 0.0182 - accuracy: 0.9949 - val_loss: 0.4257 - val_accuracy: 0.9046\n",
      "Epoch 24/50\n",
      "69/69 [==============================] - 53s 769ms/step - loss: 0.0159 - accuracy: 0.9957 - val_loss: 0.4232 - val_accuracy: 0.9032\n",
      "Epoch 25/50\n",
      "69/69 [==============================] - 53s 769ms/step - loss: 0.0139 - accuracy: 0.9966 - val_loss: 0.4224 - val_accuracy: 0.9025\n",
      "Epoch 26/50\n",
      "69/69 [==============================] - 53s 766ms/step - loss: 0.0140 - accuracy: 0.9967 - val_loss: 0.4278 - val_accuracy: 0.9039\n",
      "Epoch 27/50\n",
      "69/69 [==============================] - 53s 772ms/step - loss: 0.0149 - accuracy: 0.9959 - val_loss: 0.4229 - val_accuracy: 0.9046\n",
      "Epoch 28/50\n",
      "69/69 [==============================] - 53s 768ms/step - loss: 0.0123 - accuracy: 0.9973 - val_loss: 0.4282 - val_accuracy: 0.9046\n",
      "Epoch 29/50\n",
      "69/69 [==============================] - 52s 760ms/step - loss: 0.0119 - accuracy: 0.9971 - val_loss: 0.4328 - val_accuracy: 0.9039\n",
      "Epoch 30/50\n",
      "69/69 [==============================] - 53s 769ms/step - loss: 0.0131 - accuracy: 0.9959 - val_loss: 0.4340 - val_accuracy: 0.9025\n",
      "Epoch 31/50\n",
      "69/69 [==============================] - 53s 769ms/step - loss: 0.0115 - accuracy: 0.9978 - val_loss: 0.4382 - val_accuracy: 0.9039\n",
      "Epoch 32/50\n",
      "69/69 [==============================] - 53s 764ms/step - loss: 0.0114 - accuracy: 0.9973 - val_loss: 0.4434 - val_accuracy: 0.9005\n",
      "Epoch 33/50\n",
      "69/69 [==============================] - 53s 764ms/step - loss: 0.0126 - accuracy: 0.9971 - val_loss: 0.4444 - val_accuracy: 0.8998\n",
      "Epoch 34/50\n",
      "69/69 [==============================] - 53s 765ms/step - loss: 0.0104 - accuracy: 0.9981 - val_loss: 0.4427 - val_accuracy: 0.9032\n",
      "Epoch 35/50\n",
      "69/69 [==============================] - 53s 769ms/step - loss: 0.0119 - accuracy: 0.9977 - val_loss: 0.4436 - val_accuracy: 0.9039\n",
      "Epoch 36/50\n",
      "69/69 [==============================] - 53s 763ms/step - loss: 0.0109 - accuracy: 0.9973 - val_loss: 0.4454 - val_accuracy: 0.9052\n",
      "Epoch 37/50\n",
      "69/69 [==============================] - 52s 760ms/step - loss: 0.0084 - accuracy: 0.9983 - val_loss: 0.4475 - val_accuracy: 0.9039\n",
      "Epoch 38/50\n",
      "69/69 [==============================] - 54s 778ms/step - loss: 0.0109 - accuracy: 0.9974 - val_loss: 0.4494 - val_accuracy: 0.8991\n",
      "Epoch 39/50\n",
      "69/69 [==============================] - 54s 779ms/step - loss: 0.0091 - accuracy: 0.9977 - val_loss: 0.4553 - val_accuracy: 0.9012\n",
      "Epoch 40/50\n",
      "69/69 [==============================] - 53s 773ms/step - loss: 0.0087 - accuracy: 0.9982 - val_loss: 0.4579 - val_accuracy: 0.9018\n",
      "Epoch 41/50\n",
      "69/69 [==============================] - 54s 781ms/step - loss: 0.0093 - accuracy: 0.9980 - val_loss: 0.4598 - val_accuracy: 0.9005\n",
      "Epoch 42/50\n",
      "69/69 [==============================] - 53s 769ms/step - loss: 0.0072 - accuracy: 0.9984 - val_loss: 0.4565 - val_accuracy: 0.9005\n",
      "Epoch 43/50\n",
      "69/69 [==============================] - 54s 778ms/step - loss: 0.0083 - accuracy: 0.9983 - val_loss: 0.4597 - val_accuracy: 0.9032\n",
      "Epoch 44/50\n",
      "69/69 [==============================] - 53s 772ms/step - loss: 0.0081 - accuracy: 0.9986 - val_loss: 0.4644 - val_accuracy: 0.8991\n",
      "Epoch 45/50\n",
      "69/69 [==============================] - 53s 767ms/step - loss: 0.0072 - accuracy: 0.9986 - val_loss: 0.4625 - val_accuracy: 0.8991\n",
      "Epoch 46/50\n",
      "69/69 [==============================] - 53s 773ms/step - loss: 0.0081 - accuracy: 0.9978 - val_loss: 0.4705 - val_accuracy: 0.9005\n",
      "Epoch 47/50\n",
      "69/69 [==============================] - 53s 768ms/step - loss: 0.0080 - accuracy: 0.9980 - val_loss: 0.4709 - val_accuracy: 0.9012\n",
      "Epoch 48/50\n",
      "69/69 [==============================] - 52s 761ms/step - loss: 0.0074 - accuracy: 0.9985 - val_loss: 0.4657 - val_accuracy: 0.9012\n",
      "Epoch 49/50\n",
      "69/69 [==============================] - 53s 766ms/step - loss: 0.0073 - accuracy: 0.9980 - val_loss: 0.4659 - val_accuracy: 0.9032\n",
      "Epoch 50/50\n",
      "69/69 [==============================] - 53s 765ms/step - loss: 0.0077 - accuracy: 0.9976 - val_loss: 0.4826 - val_accuracy: 0.9005\n"
     ]
    },
    {
     "data": {
      "text/plain": [
       "<keras.src.callbacks.History at 0x7fa420170310>"
      ]
     },
     "execution_count": 9,
     "metadata": {},
     "output_type": "execute_result"
    }
   ],
   "source": [
    "callback=EarlyStopping(monitor=\"val_accuracy\",patience=10)\n",
    "model.fit(train_60,epochs=50,validation_data=val_20)"
   ]
  },
  {
   "cell_type": "code",
   "execution_count": 10,
   "metadata": {},
   "outputs": [
    {
     "name": "stdout",
     "output_type": "stream",
     "text": [
      "12/12 [==============================] - 2s 193ms/step - loss: 0.3357 - accuracy: 0.9217\n"
     ]
    },
    {
     "data": {
      "text/plain": [
       "[0.33572977781295776, 0.9216621518135071]"
      ]
     },
     "execution_count": 10,
     "metadata": {},
     "output_type": "execute_result"
    }
   ],
   "source": [
    "model.evaluate(test_20)"
   ]
  },
  {
   "cell_type": "code",
   "execution_count": 11,
   "metadata": {},
   "outputs": [
    {
     "name": "stderr",
     "output_type": "stream",
     "text": [
      "/home/nima/miniconda3/envs/BrainNeoCare/lib/python3.9/site-packages/keras/src/engine/training.py:3079: UserWarning: You are saving your model as an HDF5 file via `model.save()`. This file format is considered legacy. We recommend using instead the native Keras format, e.g. `model.save('my_model.keras')`.\n",
      "  saving_api.save_model(\n"
     ]
    }
   ],
   "source": [
    "model.save(\"fine_tuned_model.h5\")"
   ]
  },
  {
   "cell_type": "code",
   "execution_count": 1,
   "metadata": {},
   "outputs": [],
   "source": [
    "#to reset the gpu memory\n",
    "from numba import cuda \n",
    "device = cuda.get_current_device()\n",
    "device.reset()"
   ]
  }
 ],
 "metadata": {
  "kernelspec": {
   "display_name": "tf",
   "language": "python",
   "name": "python3"
  },
  "language_info": {
   "codemirror_mode": {
    "name": "ipython",
    "version": 3
   },
   "file_extension": ".py",
   "mimetype": "text/x-python",
   "name": "python",
   "nbconvert_exporter": "python",
   "pygments_lexer": "ipython3",
   "version": "3.9.18"
  }
 },
 "nbformat": 4,
 "nbformat_minor": 2
}
