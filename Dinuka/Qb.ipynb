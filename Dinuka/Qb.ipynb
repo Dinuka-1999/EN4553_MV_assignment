{
 "cells": [
  {
   "cell_type": "markdown",
   "metadata": {},
   "source": [
    "## Loading Data"
   ]
  },
  {
   "cell_type": "code",
   "execution_count": null,
   "metadata": {},
   "outputs": [],
   "source": [
    "import tensorflow as tf\n",
    "from tensorflow import keras\n",
    "import tensorflow_datasets as tfds\n",
    "from keras import layers\n",
    "import tensorflow_addons as tfa\n",
    "from tensorflow import data as tf_data"
   ]
  },
  {
   "cell_type": "code",
   "execution_count": null,
   "metadata": {},
   "outputs": [],
   "source": [
    "train_60,val_20,test_20=tfds.load(\"oxford_iiit_pet\",split=[\"train+test[:20%]\",\"test[20%:60%]\",\"test[60%:]\"],as_supervised=True)\n",
    "\n",
    "resizing=layers.Resizing(224,224)\n",
    "train_60=train_60.map(lambda x,y:(resizing(x),y))\n",
    "val_20=val_20.map(lambda x,y:(resizing(x),y))\n",
    "test_20=test_20.map(lambda x,y:(resizing(x),y))\n",
    "\n",
    "batch_size = 64\n",
    "\n",
    "train_60 = train_60.batch(batch_size).prefetch(tf_data.AUTOTUNE).cache()\n",
    "val_20 = val_20.batch(batch_size).prefetch(tf_data.AUTOTUNE).cache()\n",
    "test_20 = test_20.batch(batch_size).prefetch(tf_data.AUTOTUNE).cache()\n",
    "\n"
   ]
  },
  {
   "cell_type": "code",
   "execution_count": null,
   "metadata": {},
   "outputs": [],
   "source": [
    "train,test=tfds.load(\"oxford_iiit_pet\",split=[\"train\",\"test\"],as_supervised=True)\n",
    "\n",
    "resizing=layers.Resizing(224,224)\n",
    "train=train.map(lambda x,y:(resizing(x),y))\n",
    "test=test.map(lambda x,y:(resizing(x),y))\n",
    "\n",
    "batch_size = 64\n",
    "\n",
    "train = train.batch(batch_size).prefetch(tf_data.AUTOTUNE).cache()\n",
    "test = test.batch(batch_size).prefetch(tf_data.AUTOTUNE).cache()"
   ]
  },
  {
   "cell_type": "code",
   "execution_count": null,
   "metadata": {},
   "outputs": [],
   "source": [
    "F10_train=tfds.load(\"oxford_iiit_pet\",split=[f\"train[:{r}%]+train[{r+10}%:]\" for r in range(0,100,10)],as_supervised=True)\n",
    "F10_val=tfds.load(\"oxford_iiit_pet\",split=[f\"train[{r}%:{r+10}%]\" for r in range(0,100,10)],as_supervised=True)\n"
   ]
  },
  {
   "cell_type": "markdown",
   "metadata": {},
   "source": [
    "## Model"
   ]
  },
  {
   "cell_type": "code",
   "execution_count": null,
   "metadata": {},
   "outputs": [],
   "source": [
    "base_model=keras.applications.ResNet50(include_top=False,weights=\"imagenet\",input_shape=(224,224,3),pooling=\"avg\")"
   ]
  },
  {
   "cell_type": "code",
   "execution_count": null,
   "metadata": {},
   "outputs": [],
   "source": [
    "base_model.trainable=False"
   ]
  },
  {
   "cell_type": "code",
   "execution_count": null,
   "metadata": {},
   "outputs": [],
   "source": [
    "inputs=keras.Input(shape=(224,224,3))   \n",
    "preprocessing=tf.keras.applications.resnet.preprocess_input(inputs)\n",
    "x=base_model(preprocessing, training=False)\n",
    "x=layers.Dense(256,activation=\"relu\")(x)\n",
    "outputs=layers.Dense(37)(x)\n",
    "\n",
    "model=keras.Model(inputs,outputs)\n",
    "\n",
    "loss_fn=keras.losses.SparseCategoricalCrossentropy(from_logits=True)\n",
    "optimizers=keras.optimizers.Adam(learning_rate=0.001)\n",
    "\n",
    "F1 = tfa.metrics.FBetaScore(num_classes=37)\n",
    "model.compile(optimizer=optimizers,loss=loss_fn,metrics=['accuracy'])"
   ]
  },
  {
   "cell_type": "code",
   "execution_count": null,
   "metadata": {},
   "outputs": [],
   "source": [
    "model.summary(show_trainable=True) "
   ]
  },
  {
   "cell_type": "code",
   "execution_count": null,
   "metadata": {},
   "outputs": [],
   "source": [
    "model.fit(train_60,epochs=10,validation_data=val_20)"
   ]
  }
 ],
 "metadata": {
  "kernelspec": {
   "display_name": "tf",
   "language": "python",
   "name": "python3"
  },
  "language_info": {
   "codemirror_mode": {
    "name": "ipython",
    "version": 3
   },
   "file_extension": ".py",
   "mimetype": "text/x-python",
   "name": "python",
   "nbconvert_exporter": "python",
   "pygments_lexer": "ipython3",
   "version": "3.9.18"
  }
 },
 "nbformat": 4,
 "nbformat_minor": 2
}
