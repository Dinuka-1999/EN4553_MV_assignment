{
 "cells": [
  {
   "cell_type": "markdown",
   "metadata": {},
   "source": [
    "## Loading Data"
   ]
  },
  {
   "cell_type": "code",
   "execution_count": 1,
   "metadata": {},
   "outputs": [
    {
     "name": "stderr",
     "output_type": "stream",
     "text": [
      "c:\\Users\\dinuk\\anaconda3\\envs\\tf\\lib\\site-packages\\tqdm\\auto.py:21: TqdmWarning: IProgress not found. Please update jupyter and ipywidgets. See https://ipywidgets.readthedocs.io/en/stable/user_install.html\n",
      "  from .autonotebook import tqdm as notebook_tqdm\n"
     ]
    }
   ],
   "source": [
    "import tensorflow as tf\n",
    "from tensorflow import keras\n",
    "import tensorflow_datasets as tfds\n",
    "from keras import layers\n",
    "from tensorflow import data as tf_data\n",
    "from tensorflow.keras.callbacks import EarlyStopping"
   ]
  },
  {
   "cell_type": "code",
   "execution_count": 3,
   "metadata": {},
   "outputs": [],
   "source": [
    "# tfds.disable_progress_bar()\n",
    "train_60,val_20,test_20=tfds.load(\"oxford_iiit_pet\",split=[\"train+test[:20%]\",\"test[20%:60%]\",\"test[60%:]\"],as_supervised=True)\n",
    "\n",
    "resizing=layers.Resizing(224,224)\n",
    "train_60=train_60.map(lambda x,y:(resizing(x),y))\n",
    "val_20=val_20.map(lambda x,y:(resizing(x),y))\n",
    "test_20=test_20.map(lambda x,y:(resizing(x),y))\n",
    "\n",
    "batch_size = 64\n",
    "\n",
    "train_60 = train_60.batch(batch_size).prefetch(tf_data.AUTOTUNE).cache()\n",
    "val_20 = val_20.batch(batch_size).prefetch(tf_data.AUTOTUNE).cache()\n",
    "test_20 = test_20.batch(batch_size).prefetch(tf_data.AUTOTUNE).cache()"
   ]
  },
  {
   "cell_type": "code",
   "execution_count": 2,
   "metadata": {},
   "outputs": [],
   "source": [
    "train,test=tfds.load(\"oxford_iiit_pet\",split=[\"train\",\"test\"],as_supervised=True)\n",
    "\n",
    "resizing=layers.Resizing(224,224)\n",
    "train=train.map(lambda x,y:(resizing(x),y))\n",
    "test=test.map(lambda x,y:(resizing(x),y))\n",
    "\n",
    "batch_size = 64\n",
    "\n",
    "train = train.batch(batch_size).prefetch(tf_data.AUTOTUNE).cache()\n",
    "test = test.batch(batch_size).prefetch(tf_data.AUTOTUNE).cache()"
   ]
  },
  {
   "cell_type": "code",
   "execution_count": 5,
   "metadata": {},
   "outputs": [],
   "source": [
    "F10_train=tfds.load(\"oxford_iiit_pet\",split=[f\"train[:{r}%]+train[{r+10}%:]\" for r in range(0,100,10)],as_supervised=True)\n",
    "F10_val=tfds.load(\"oxford_iiit_pet\",split=[f\"train[{r}%:{r+10}%]\" for r in range(0,100,10)],as_supervised=True)"
   ]
  },
  {
   "cell_type": "markdown",
   "metadata": {},
   "source": [
    "## Model"
   ]
  },
  {
   "cell_type": "code",
   "execution_count": 3,
   "metadata": {},
   "outputs": [],
   "source": [
    "base_model=keras.applications.ResNet50(include_top=False,weights=\"imagenet\",input_shape=(224,224,3),pooling=\"avg\")"
   ]
  },
  {
   "cell_type": "code",
   "execution_count": 4,
   "metadata": {},
   "outputs": [],
   "source": [
    "base_model.trainable=False"
   ]
  },
  {
   "cell_type": "code",
   "execution_count": 8,
   "metadata": {},
   "outputs": [],
   "source": [
    "inputs=keras.Input(shape=(224,224,3))   \n",
    "preprocessing=tf.keras.applications.resnet.preprocess_input(inputs)\n",
    "x=base_model(preprocessing, training=False)\n",
    "x=layers.Dense(512,activation=\"relu\")(x)\n",
    "x=layers.Dropout(0.4)(x)    \n",
    "outputs=layers.Dense(37)(x)\n",
    "\n",
    "model=keras.Model(inputs,outputs)\n",
    "\n",
    "loss_fn=keras.losses.SparseCategoricalCrossentropy(from_logits=True)\n",
    "optimizers=keras.optimizers.Adam(learning_rate=0.0002,decay=0.00001)\n",
    "\n",
    "model.compile(optimizer=optimizers,loss=loss_fn,metrics=[keras.metrics.SparseTopKCategoricalAccuracy( k=3, name=\"accuracy\")])"
   ]
  },
  {
   "cell_type": "code",
   "execution_count": 9,
   "metadata": {},
   "outputs": [
    {
     "name": "stdout",
     "output_type": "stream",
     "text": [
      "Model: \"model_1\"\n",
      "____________________________________________________________________________\n",
      " Layer (type)                Output Shape              Param #   Trainable  \n",
      "============================================================================\n",
      " input_3 (InputLayer)        [(None, 224, 224, 3)]     0         Y          \n",
      "                                                                            \n",
      " tf.__operators__.getitem_1   (None, 224, 224, 3)      0         Y          \n",
      " (SlicingOpLambda)                                                          \n",
      "                                                                            \n",
      " tf.nn.bias_add_1 (TFOpLambd  (None, 224, 224, 3)      0         Y          \n",
      " a)                                                                         \n",
      "                                                                            \n",
      " resnet50 (Functional)       (None, 2048)              23587712  N          \n",
      "                                                                            \n",
      " dense_2 (Dense)             (None, 512)               1049088   Y          \n",
      "                                                                            \n",
      " dropout_1 (Dropout)         (None, 512)               0         Y          \n",
      "                                                                            \n",
      " dense_3 (Dense)             (None, 37)                18981     Y          \n",
      "                                                                            \n",
      "============================================================================\n",
      "Total params: 24,655,781\n",
      "Trainable params: 1,068,069\n",
      "Non-trainable params: 23,587,712\n",
      "____________________________________________________________________________\n"
     ]
    }
   ],
   "source": [
    "model.summary(show_trainable=True) "
   ]
  },
  {
   "cell_type": "code",
   "execution_count": 10,
   "metadata": {},
   "outputs": [
    {
     "name": "stdout",
     "output_type": "stream",
     "text": [
      "Epoch 1/5\n"
     ]
    },
    {
     "name": "stdout",
     "output_type": "stream",
     "text": [
      "58/58 [==============================] - 27s 397ms/step - loss: 2.2180 - accuracy: 0.6348 - val_loss: 0.9146 - val_accuracy: 0.9469\n",
      "Epoch 2/5\n",
      "58/58 [==============================] - 22s 374ms/step - loss: 0.7641 - accuracy: 0.9432 - val_loss: 0.5770 - val_accuracy: 0.9703\n",
      "Epoch 3/5\n",
      "58/58 [==============================] - 21s 368ms/step - loss: 0.4686 - accuracy: 0.9793 - val_loss: 0.4668 - val_accuracy: 0.9768\n",
      "Epoch 4/5\n",
      "58/58 [==============================] - 21s 372ms/step - loss: 0.3404 - accuracy: 0.9897 - val_loss: 0.4243 - val_accuracy: 0.9779\n",
      "Epoch 5/5\n",
      "58/58 [==============================] - 22s 379ms/step - loss: 0.2615 - accuracy: 0.9921 - val_loss: 0.3922 - val_accuracy: 0.9782\n"
     ]
    },
    {
     "data": {
      "text/plain": [
       "<keras.callbacks.History at 0x2b4306ae100>"
      ]
     },
     "execution_count": 10,
     "metadata": {},
     "output_type": "execute_result"
    }
   ],
   "source": [
    "callback=EarlyStopping(monitor=\"val_loss\",patience=5,restore_best_weights=True)\n",
    "model.fit(train,epochs=5,validation_data=test,callbacks=[callback],verbose=1)"
   ]
  },
  {
   "cell_type": "code",
   "execution_count": null,
   "metadata": {},
   "outputs": [],
   "source": [
    "model.evaluate(test_20,verbose=2)   "
   ]
  }
 ],
 "metadata": {
  "kernelspec": {
   "display_name": "tf",
   "language": "python",
   "name": "python3"
  },
  "language_info": {
   "codemirror_mode": {
    "name": "ipython",
    "version": 3
   },
   "file_extension": ".py",
   "mimetype": "text/x-python",
   "name": "python",
   "nbconvert_exporter": "python",
   "pygments_lexer": "ipython3",
   "version": "3.9.18"
  }
 },
 "nbformat": 4,
 "nbformat_minor": 2
}
