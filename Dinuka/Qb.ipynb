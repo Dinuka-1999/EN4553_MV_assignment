{
 "cells": [
  {
   "cell_type": "markdown",
   "metadata": {},
   "source": [
    "## Loading Data"
   ]
  },
  {
   "cell_type": "code",
   "execution_count": null,
   "metadata": {},
   "outputs": [],
   "source": [
    "import tensorflow as tf\n",
    "from tensorflow import keras\n",
    "import tensorflow_datasets as tfds\n",
    "from keras import layers\n",
    "import tensorflow_addons as tfa\n",
    "from tensorflow import data as tf_data"
   ]
  },
  {
   "cell_type": "code",
   "execution_count": 2,
   "metadata": {},
   "outputs": [],
   "source": [
    "train_60,val_20,test_20=tfds.load(\"oxford_iiit_pet\",split=[\"train+test[:20%]\",\"test[20%:60%]\",\"test[60%:]\"],as_supervised=True)\n",
    "\n",
    "resizing=layers.Resizing(224,224)\n",
    "train_60=train_60.map(lambda x,y:(resizing(x),y))\n",
    "val_20=val_20.map(lambda x,y:(resizing(x),y))\n",
    "test_20=test_20.map(lambda x,y:(resizing(x),y))\n",
    "\n",
    "batch_size = 64\n",
    "\n",
    "train_60 = train_60.batch(batch_size).prefetch(tf_data.AUTOTUNE).cache()\n",
    "val_20 = val_20.batch(batch_size).prefetch(tf_data.AUTOTUNE).cache()\n",
    "test_20 = test_20.batch(batch_size).prefetch(tf_data.AUTOTUNE).cache()"
   ]
  },
  {
   "cell_type": "code",
   "execution_count": 3,
   "metadata": {},
   "outputs": [],
   "source": [
    "train,test=tfds.load(\"oxford_iiit_pet\",split=[\"train\",\"test\"],as_supervised=True)\n",
    "\n",
    "resizing=layers.Resizing(224,224)\n",
    "train=train.map(lambda x,y:(resizing(x),y))\n",
    "test=test.map(lambda x,y:(resizing(x),y))\n",
    "\n",
    "batch_size = 64\n",
    "\n",
    "train = train.batch(batch_size).prefetch(tf_data.AUTOTUNE).cache()\n",
    "test = test.batch(batch_size).prefetch(tf_data.AUTOTUNE).cache()"
   ]
  },
  {
   "cell_type": "code",
   "execution_count": null,
   "metadata": {},
   "outputs": [],
   "source": [
    "F10_train=tfds.load(\"oxford_iiit_pet\",split=[f\"train[:{r}%]+train[{r+10}%:]\" for r in range(0,100,10)],as_supervised=True)\n",
    "F10_val=tfds.load(\"oxford_iiit_pet\",split=[f\"train[{r}%:{r+10}%]\" for r in range(0,100,10)],as_supervised=True)"
   ]
  },
  {
   "cell_type": "markdown",
   "metadata": {},
   "source": [
    "## Model"
   ]
  },
  {
   "cell_type": "code",
   "execution_count": 3,
   "metadata": {},
   "outputs": [],
   "source": [
    "base_model=keras.applications.ResNet50(include_top=False,weights=\"imagenet\",input_shape=(224,224,3),pooling=\"avg\")"
   ]
  },
  {
   "cell_type": "code",
   "execution_count": 4,
   "metadata": {},
   "outputs": [],
   "source": [
    "base_model.trainable=False"
   ]
  },
  {
   "cell_type": "code",
   "execution_count": 10,
   "metadata": {},
   "outputs": [],
   "source": [
    "inputs=keras.Input(shape=(224,224,3))   \n",
    "preprocessing=tf.keras.applications.resnet.preprocess_input(inputs)\n",
    "x=base_model(preprocessing, training=False)\n",
    "x=layers.Dense(256,activation=\"relu\")(x)\n",
    "x=layers.Dropout(0.5)(x)    \n",
    "outputs=layers.Dense(37)(x)\n",
    "\n",
    "model=keras.Model(inputs,outputs)\n",
    "\n",
    "loss_fn=keras.losses.SparseCategoricalCrossentropy(from_logits=True)\n",
    "optimizers=keras.optimizers.Adam(learning_rate=0.0001,decay=0.00001)\n",
    "\n",
    "model.compile(optimizer=optimizers,loss=loss_fn,metrics=['accuracy'])"
   ]
  },
  {
   "cell_type": "code",
   "execution_count": 11,
   "metadata": {},
   "outputs": [
    {
     "name": "stdout",
     "output_type": "stream",
     "text": [
      "Model: \"model_2\"\n",
      "____________________________________________________________________________\n",
      " Layer (type)                Output Shape              Param #   Trainable  \n",
      "============================================================================\n",
      " input_4 (InputLayer)        [(None, 224, 224, 3)]     0         Y          \n",
      "                                                                            \n",
      " tf.__operators__.getitem_2   (None, 224, 224, 3)      0         Y          \n",
      " (SlicingOpLambda)                                                          \n",
      "                                                                            \n",
      " tf.nn.bias_add_2 (TFOpLambd  (None, 224, 224, 3)      0         Y          \n",
      " a)                                                                         \n",
      "                                                                            \n",
      " resnet50 (Functional)       (None, 2048)              23587712  N          \n",
      "                                                                            \n",
      " dense_4 (Dense)             (None, 256)               524544    Y          \n",
      "                                                                            \n",
      " dropout_2 (Dropout)         (None, 256)               0         Y          \n",
      "                                                                            \n",
      " dense_5 (Dense)             (None, 37)                9509      Y          \n",
      "                                                                            \n",
      "============================================================================\n",
      "Total params: 24,121,765\n",
      "Trainable params: 534,053\n",
      "Non-trainable params: 23,587,712\n",
      "____________________________________________________________________________\n"
     ]
    }
   ],
   "source": [
    "model.summary(show_trainable=True) "
   ]
  },
  {
   "cell_type": "code",
   "execution_count": 13,
   "metadata": {},
   "outputs": [
    {
     "name": "stdout",
     "output_type": "stream",
     "text": [
      "Epoch 1/10\n"
     ]
    },
    {
     "name": "stdout",
     "output_type": "stream",
     "text": [
      "69/69 [==============================] - 17s 240ms/step - loss: 0.3797 - accuracy: 0.8913 - val_loss: 0.4106 - val_accuracy: 0.8773\n",
      "Epoch 2/10\n",
      "69/69 [==============================] - 16s 240ms/step - loss: 0.3461 - accuracy: 0.9017 - val_loss: 0.4062 - val_accuracy: 0.8848\n",
      "Epoch 3/10\n",
      "69/69 [==============================] - 17s 240ms/step - loss: 0.3196 - accuracy: 0.9085 - val_loss: 0.3865 - val_accuracy: 0.8807\n",
      "Epoch 4/10\n",
      "69/69 [==============================] - 17s 243ms/step - loss: 0.2912 - accuracy: 0.9166 - val_loss: 0.3786 - val_accuracy: 0.8793\n",
      "Epoch 5/10\n",
      "69/69 [==============================] - 17s 242ms/step - loss: 0.2700 - accuracy: 0.9243 - val_loss: 0.3715 - val_accuracy: 0.8780\n",
      "Epoch 6/10\n",
      "69/69 [==============================] - 17s 243ms/step - loss: 0.2705 - accuracy: 0.9187 - val_loss: 0.3731 - val_accuracy: 0.8834\n",
      "Epoch 7/10\n",
      "69/69 [==============================] - 17s 241ms/step - loss: 0.2356 - accuracy: 0.9334 - val_loss: 0.3628 - val_accuracy: 0.8862\n",
      "Epoch 8/10\n",
      "69/69 [==============================] - 17s 242ms/step - loss: 0.2286 - accuracy: 0.9352 - val_loss: 0.3623 - val_accuracy: 0.8841\n",
      "Epoch 9/10\n",
      "69/69 [==============================] - 17s 241ms/step - loss: 0.1946 - accuracy: 0.9463 - val_loss: 0.3544 - val_accuracy: 0.8889\n",
      "Epoch 10/10\n",
      "69/69 [==============================] - 17s 244ms/step - loss: 0.2044 - accuracy: 0.9438 - val_loss: 0.3508 - val_accuracy: 0.8909\n"
     ]
    },
    {
     "data": {
      "text/plain": [
       "<keras.callbacks.History at 0x25f21b100d0>"
      ]
     },
     "execution_count": 13,
     "metadata": {},
     "output_type": "execute_result"
    }
   ],
   "source": [
    "model.fit(train_60,epochs=10,validation_data=val_20)"
   ]
  },
  {
   "cell_type": "code",
   "execution_count": 14,
   "metadata": {},
   "outputs": [
    {
     "name": "stdout",
     "output_type": "stream",
     "text": [
      "23/23 [==============================] - 4s 181ms/step - loss: 0.2848 - accuracy: 0.9142\n"
     ]
    },
    {
     "data": {
      "text/plain": [
       "[0.2848379909992218, 0.9141689538955688]"
      ]
     },
     "execution_count": 14,
     "metadata": {},
     "output_type": "execute_result"
    }
   ],
   "source": [
    "model.evaluate(test_20)"
   ]
  }
 ],
 "metadata": {
  "kernelspec": {
   "display_name": "tf",
   "language": "python",
   "name": "python3"
  },
  "language_info": {
   "codemirror_mode": {
    "name": "ipython",
    "version": 3
   },
   "file_extension": ".py",
   "mimetype": "text/x-python",
   "name": "python",
   "nbconvert_exporter": "python",
   "pygments_lexer": "ipython3",
   "version": "3.9.18"
  }
 },
 "nbformat": 4,
 "nbformat_minor": 2
}
