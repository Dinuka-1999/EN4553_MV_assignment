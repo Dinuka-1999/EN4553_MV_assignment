{
  "cells": [
    {
      "cell_type": "markdown",
      "metadata": {
        "id": "r7pCNls3IDXV"
      },
      "source": [
        "## Loading Data"
      ]
    },
    {
      "cell_type": "code",
      "execution_count": null,
      "metadata": {
        "id": "fPKFj9j4IDXX"
      },
      "outputs": [],
      "source": [
        "import tensorflow as tf\n",
        "from tensorflow import keras\n",
        "import tensorflow_datasets as tfds\n",
        "from keras import layers\n",
        "from keras.callbacks import EarlyStopping\n",
        "import matplotlib.pyplot as plt"
      ]
    },
    {
      "cell_type": "code",
      "execution_count": null,
      "metadata": {
        "colab": {
          "base_uri": "https://localhost:8080/"
        },
        "id": "JkpnFPXzIWqb",
        "outputId": "950d4ddb-ec88-4a4e-afb9-ee1edcdf2742"
      },
      "outputs": [],
      "source": [
        "print(\"Tensorflow version \" + tf.__version__)\n",
        "\n",
        "try:\n",
        "  tpu = tf.distribute.cluster_resolver.TPUClusterResolver()  # TPU detection\n",
        "  print('Running on TPU ', tpu.cluster_spec().as_dict()['worker'])\n",
        "except ValueError:\n",
        "  raise BaseException('ERROR: Not connected to a TPU runtime; please see the previous cell in this notebook for instructions!')\n",
        "\n",
        "tf.config.experimental_connect_to_cluster(tpu)\n",
        "tf.tpu.experimental.initialize_tpu_system(tpu)\n",
        "tpu_strategy = tf.distribute.TPUStrategy(tpu)"
      ]
    },
    {
      "cell_type": "code",
      "execution_count": null,
      "metadata": {
        "id": "TGEgFRpnRluF"
      },
      "outputs": [],
      "source": [
        "from google.colab import auth\n",
        "auth.authenticate_user()"
      ]
    },
    {
      "cell_type": "code",
      "execution_count": null,
      "metadata": {
        "id": "CUviRNjcIDXY"
      },
      "outputs": [],
      "source": [
        "data_augmentation=keras.Sequential([\n",
        "    layers.RandomContrast(0.2),\n",
        "    layers.RandomFlip(\"horizontal\"),\n",
        "    layers.RandomRotation(0.2)\n",
        "])"
      ]
    },
    {
      "cell_type": "code",
      "execution_count": null,
      "metadata": {
        "id": "F8VKqJbiShrV"
      },
      "outputs": [],
      "source": [
        "#tfds.disable_progress_bar()\n",
        "train_60,val_20,test_20=tfds.load(\"oxford_iiit_pet\",split=[\"train\",\"test[:50%]\",\"test[50%:]\"],as_supervised=True,shuffle_files=True,data_dir=\"gs://dinuka_bucket\")"
      ]
    },
    {
      "cell_type": "code",
      "execution_count": null,
      "metadata": {
        "id": "sW79pi9mIDXY"
      },
      "outputs": [],
      "source": [
        "resizing=layers.Resizing(224,224)\n",
        "train_60=train_60.map(lambda x,y:(resizing(x),y),num_parallel_calls=tf.data.AUTOTUNE)\n",
        "val_20=val_20.map(lambda x,y:(resizing(x),y),num_parallel_calls=tf.data.AUTOTUNE)\n",
        "test_20=test_20.map(lambda x,y:(resizing(x),y),num_parallel_calls=tf.data.AUTOTUNE)\n",
        "\n",
        "train_60_1=train_60.map(lambda x,y:(data_augmentation(x,training=True),y),num_parallel_calls=tf.data.AUTOTUNE)\n",
        "\n",
        "train_60_1=train_60.concatenate(train_60_1).shuffle(1000)\n",
        "\n",
        "batch_size = 128\n",
        "\n",
        "train_60_1= train_60_1.batch(batch_size).prefetch(tf.data.AUTOTUNE).cache()  # only to Fine tune the model\n",
        "\n",
        "train_60 = train_60.batch(batch_size).prefetch(tf.data.AUTOTUNE).cache()\n",
        "val_20 = val_20.batch(batch_size).prefetch(tf.data.AUTOTUNE).cache()\n",
        "test_20 = test_20.batch(batch_size).prefetch(tf.data.AUTOTUNE).cache()"
      ]
    },
    {
      "cell_type": "code",
      "execution_count": null,
      "metadata": {
        "id": "wOEf8nRn0hlf"
      },
      "outputs": [],
      "source": []
    },
    {
      "cell_type": "code",
      "execution_count": null,
      "metadata": {
        "id": "wk1wYM6IIDXY"
      },
      "outputs": [],
      "source": [
        "# train,test=tfds.load(\"oxford_iiit_pet\",split=[\"train\",\"test\"],as_supervised=True)\n",
        "\n",
        "# resizing=layers.Resizing(224,224)\n",
        "# train=train.map(lambda x,y:(resizing(x),y),num_parallel_calls=tf.data.AUTOTUNE)\n",
        "# test=test.map(lambda x,y:(resizing(x),y),num_parallel_calls=tf.data.AUTOTUNE)\n",
        "\n",
        "# train_1=train.map(lambda x,y:(data_augmentation(x,training=True),y),num_parallel_calls=tf.data.AUTOTUNE)\n",
        "\n",
        "# train=train.concatenate(train_1).shuffle(1000)\n",
        "\n",
        "# batch_size = 128\n",
        "\n",
        "# train = train.batch(batch_size).prefetch(tf.data.AUTOTUNE).cache()\n",
        "# test = test.batch(batch_size).prefetch(tf.data.AUTOTUNE).cache()"
      ]
    },
    {
      "cell_type": "code",
      "execution_count": null,
      "metadata": {
        "id": "0c3BfeBSIDXY"
      },
      "outputs": [],
      "source": [
        "# F10_train=tfds.load(\"oxford_iiit_pet\",split=[f\"train[:{r}%]+train[{r+10}%:]\" for r in range(0,100,10)],as_supervised=True)\n",
        "# F10_val=tfds.load(\"oxford_iiit_pet\",split=[f\"train[{r}%:{r+10}%]\" for r in range(0,100,10)],as_supervised=True)"
      ]
    },
    {
      "cell_type": "markdown",
      "metadata": {
        "id": "7qGj54zzIDXY"
      },
      "source": [
        "## Model"
      ]
    },
    {
      "cell_type": "code",
      "execution_count": null,
      "metadata": {
        "id": "mq1ry7xZIDXZ"
      },
      "outputs": [],
      "source": [
        "def create_model(base_model,lr,wd):\n",
        "  inputs=keras.Input(shape=(224,224,3))\n",
        "  preprocessing=tf.keras.applications.mobilenet_v2.preprocess_input(inputs)\n",
        "  x=base_model(preprocessing, training=False)\n",
        "  x=layers.Dense(256,activation=\"swish\")(x)\n",
        "  x=layers.Dropout(0.5)(x)\n",
        "  outputs=layers.Dense(37)(x)\n",
        "\n",
        "  model=keras.Model(inputs,outputs)\n",
        "  loss_fn=keras.losses.SparseCategoricalCrossentropy(from_logits=True)\n",
        "  optimizers=keras.optimizers.Adam(learning_rate=lr,weight_decay=wd)\n",
        "\n",
        "  model.compile(optimizer=optimizers,loss=loss_fn,metrics=[keras.metrics.SparseTopKCategoricalAccuracy( k=1, name=\"accuracy\")])\n",
        "  return model"
      ]
    },
    {
      "cell_type": "code",
      "execution_count": null,
      "metadata": {
        "colab": {
          "base_uri": "https://localhost:8080/"
        },
        "id": "99hLgkPaWDmU",
        "outputId": "fa731ad9-f45f-461b-b56c-a0d439f3f944"
      },
      "outputs": [],
      "source": [
        "with tpu_strategy.scope():\n",
        "  base_model=keras.applications.MobileNetV2(include_top=False,weights=\"imagenet\",input_shape=(224,224,3),pooling=\"avg\")\n",
        "  base_model.trainable=False\n",
        "  model=create_model(base_model,lr=0.002,wd=0.0005)"
      ]
    },
    {
      "cell_type": "code",
      "execution_count": null,
      "metadata": {
        "colab": {
          "base_uri": "https://localhost:8080/"
        },
        "id": "OExbYBaZIDXZ",
        "outputId": "6fb8560e-14b8-41c6-f091-bc67287283a1"
      },
      "outputs": [],
      "source": [
        "model.summary(show_trainable=True)"
      ]
    },
    {
      "cell_type": "markdown",
      "metadata": {
        "id": "OVu1uLZfvD09"
      },
      "source": [
        "learning rate, weight decay, batch size, model\n",
        "\n",
        "training acc, val acc, test acc(most important), top 1 , top 3"
      ]
    },
    {
      "cell_type": "code",
      "execution_count": null,
      "metadata": {
        "colab": {
          "base_uri": "https://localhost:8080/"
        },
        "id": "wB3pHo-CIDXZ",
        "outputId": "57cf8d58-9dc8-4eff-e69f-2593b332410f"
      },
      "outputs": [],
      "source": [
        "callback=EarlyStopping(monitor=\"val_loss\",patience=5,restore_best_weights=True)\n",
        "history=model.fit(train_60,epochs=50,validation_data=val_20)"
      ]
    },
    {
      "cell_type": "code",
      "execution_count": null,
      "metadata": {
        "colab": {
          "base_uri": "https://localhost:8080/"
        },
        "id": "T7KNwEQI30ay",
        "outputId": "2b2cc4f2-50c5-4f1b-c2ab-605269dc1266"
      },
      "outputs": [],
      "source": [
        "model.evaluate(test_20)"
      ]
    },
    {
      "cell_type": "code",
      "execution_count": null,
      "metadata": {
        "id": "9vJxv4Lx2-o_"
      },
      "outputs": [],
      "source": [
        "model.save_weights('model.weights.h5')\n",
        "model.save('model.keras')"
      ]
    },
    {
      "cell_type": "code",
      "execution_count": null,
      "metadata": {
        "colab": {
          "base_uri": "https://localhost:8080/",
          "height": 466
        },
        "id": "h2UCHJUzzewR",
        "outputId": "5c804246-ad51-4e46-d5a9-a5fe7b211694"
      },
      "outputs": [],
      "source": [
        "training_accuracy = history.history['accuracy']\n",
        "val_accuracy=history.history['val_accuracy']\n",
        "training_loss = history.history['loss']\n",
        "val_loss=history.history['val_loss']\n",
        "epochs = range(1, len(training_accuracy) + 1)\n",
        "\n",
        "# Plot training loss against epochs\n",
        "# plt.figure(figsize=(6, 6))\n",
        "plt.plot(epochs, training_accuracy, label='Training accuracy')\n",
        "plt.plot(epochs, val_accuracy, label='Validation accuracy')\n",
        "plt.plot(epochs, training_loss, label='Training loss')\n",
        "plt.plot(epochs, val_loss, label='Validation loss')\n",
        "plt.grid()\n",
        "plt.xlabel('Epochs')\n",
        "plt.ylabel('Loss')\n",
        "plt.legend()\n",
        "plt.show()\n",
        "plt.savefig('books_read.png')\n"
      ]
    },
    {
      "cell_type": "markdown",
      "metadata": {
        "id": "f9DVViPBwIHB"
      },
      "source": [
        "## Fine tune"
      ]
    },
    {
      "cell_type": "code",
      "execution_count": null,
      "metadata": {
        "id": "cluPWROQIDXa"
      },
      "outputs": [],
      "source": [
        "base_model.trainable=True"
      ]
    },
    {
      "cell_type": "code",
      "execution_count": null,
      "metadata": {
        "colab": {
          "base_uri": "https://localhost:8080/"
        },
        "id": "_tcjkavmIDXa",
        "outputId": "bf840b00-9b51-4016-a363-d002382e9337"
      },
      "outputs": [],
      "source": [
        "model.summary(show_trainable=True)"
      ]
    },
    {
      "cell_type": "code",
      "execution_count": null,
      "metadata": {
        "id": "hj0EG_HN4lrP"
      },
      "outputs": [],
      "source": [
        "with tpu_strategy.scope():\n",
        "  loss_fn=keras.losses.SparseCategoricalCrossentropy(from_logits=True)\n",
        "  optimizers=keras.optimizers.Adam(learning_rate=0.000001,weight_decay=0.00000001)\n",
        "\n",
        "  model.compile(optimizer=optimizers,loss=loss_fn,metrics=[keras.metrics.SparseTopKCategoricalAccuracy( k=1, name=\"accuracy\")])"
      ]
    },
    {
      "cell_type": "code",
      "execution_count": null,
      "metadata": {
        "colab": {
          "base_uri": "https://localhost:8080/",
          "height": 442
        },
        "id": "u_IAKddZ6gZ1",
        "outputId": "e3f33918-e680-4d8e-fecd-1bb1b35e5bdf"
      },
      "outputs": [],
      "source": [
        "callback=EarlyStopping(monitor=\"val_loss\",patience=5,restore_best_weights=True)\n",
        "history=model.fit(train_60,epochs=14,validation_data=val_20)"
      ]
    },
    {
      "cell_type": "code",
      "execution_count": null,
      "metadata": {
        "colab": {
          "base_uri": "https://localhost:8080/"
        },
        "id": "8z4XN7GnATaH",
        "outputId": "6ec80d5f-8702-4710-a5f0-713aac5f8a4c"
      },
      "outputs": [],
      "source": [
        "model.evaluate(test_20)"
      ]
    }
  ],
  "metadata": {
    "accelerator": "TPU",
    "colab": {
      "provenance": []
    },
    "kernelspec": {
      "display_name": "Python 3",
      "name": "python3"
    },
    "language_info": {
      "codemirror_mode": {
        "name": "ipython",
        "version": 3
      },
      "file_extension": ".py",
      "mimetype": "text/x-python",
      "name": "python",
      "nbconvert_exporter": "python",
      "pygments_lexer": "ipython3",
      "version": "3.9.18"
    }
  },
  "nbformat": 4,
  "nbformat_minor": 0
}
