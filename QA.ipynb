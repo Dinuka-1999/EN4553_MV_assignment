{
 "cells": [
  {
   "cell_type": "markdown",
   "metadata": {},
   "source": [
    "## Load the data set\n"
   ]
  },
  {
   "cell_type": "code",
   "execution_count": null,
   "metadata": {},
   "outputs": [
    {
     "name": "stderr",
     "output_type": "stream",
     "text": [
      "2023-12-12 02:12:05.139103: I tensorflow/core/util/port.cc:111] oneDNN custom operations are on. You may see slightly different numerical results due to floating-point round-off errors from different computation orders. To turn them off, set the environment variable `TF_ENABLE_ONEDNN_OPTS=0`.\n",
      "2023-12-12 02:12:05.184645: E tensorflow/compiler/xla/stream_executor/cuda/cuda_dnn.cc:9342] Unable to register cuDNN factory: Attempting to register factory for plugin cuDNN when one has already been registered\n",
      "2023-12-12 02:12:05.184677: E tensorflow/compiler/xla/stream_executor/cuda/cuda_fft.cc:609] Unable to register cuFFT factory: Attempting to register factory for plugin cuFFT when one has already been registered\n",
      "2023-12-12 02:12:05.184700: E tensorflow/compiler/xla/stream_executor/cuda/cuda_blas.cc:1518] Unable to register cuBLAS factory: Attempting to register factory for plugin cuBLAS when one has already been registered\n",
      "2023-12-12 02:12:05.193557: I tensorflow/core/platform/cpu_feature_guard.cc:182] This TensorFlow binary is optimized to use available CPU instructions in performance-critical operations.\n",
      "To enable the following instructions: AVX2 AVX512F AVX512_VNNI FMA, in other operations, rebuild TensorFlow with the appropriate compiler flags.\n",
      "/home/nima/miniconda3/envs/BrainNeoCare/lib/python3.9/site-packages/tqdm/auto.py:21: TqdmWarning: IProgress not found. Please update jupyter and ipywidgets. See https://ipywidgets.readthedocs.io/en/stable/user_install.html\n",
      "  from .autonotebook import tqdm as notebook_tqdm\n"
     ]
    }
   ],
   "source": [
    "import tensorflow as tf\n",
    "import tensorflow_datasets as tfds\n",
    "import matplotlib.pyplot as plt"
   ]
  },
  {
   "cell_type": "code",
   "execution_count": null,
   "metadata": {},
   "outputs": [
    {
     "name": "stderr",
     "output_type": "stream",
     "text": [
      "2023-12-12 02:13:16.965029: I tensorflow/core/common_runtime/gpu/gpu_device.cc:1886] Created device /job:localhost/replica:0/task:0/device:GPU:0 with 14774 MB memory:  -> device: 0, name: Quadro RTX 5000, pci bus id: 0000:17:00.0, compute capability: 7.5\n",
      "2023-12-12 02:13:16.965656: I tensorflow/core/common_runtime/gpu/gpu_device.cc:1886] Created device /job:localhost/replica:0/task:0/device:GPU:1 with 10668 MB memory:  -> device: 1, name: Quadro RTX 5000, pci bus id: 0000:73:00.0, compute capability: 7.5\n"
     ]
    }
   ],
   "source": [
    "train, test =  tfds.load(\"oxford_iiit_pet\",split=[\"train\",\"test\"],as_supervised=True)"
   ]
  },
  {
   "cell_type": "markdown",
   "metadata": {},
   "source": [
    "## Model"
   ]
  },
  {
   "cell_type": "code",
   "execution_count": null,
   "metadata": {},
   "outputs": [],
   "source": [
    "base_model=tf.keras.applications.ResNet50(include_top=False,weights=\"imagenet\",input_shape=(224,224,3),pooling=\"avg\")"
   ]
  },
  {
   "cell_type": "code",
   "execution_count": 4,
   "metadata": {},
   "outputs": [],
   "source": [
    "inputs=tf.keras.layers.Input(shape=(None,None,3),name=\"input\")\n",
    "resizing=tf.keras.layers.Resizing(224,224)(inputs)\n",
    "preprocessed=tf.keras.applications.resnet.preprocess_input(resizing)\n",
    "embeddings=base_model(preprocessed)\n",
    "output=tf.keras.layers.Flatten()(embeddings)\n",
    "model=tf.keras.Model(inputs=inputs,outputs=output)\n"
   ]
  },
  {
   "cell_type": "code",
   "execution_count": 5,
   "metadata": {},
   "outputs": [],
   "source": [
    "train_ds=train.map(lambda x,y:(tf.expand_dims(x,axis=0),y))\n",
    "# train_ds=train.batch(1)\n",
    "train_ds=train_ds.map(lambda x,y:(model(x),y))\n",
    "\n",
    "test_ds=test.map(lambda x,y:(tf.expand_dims(x,axis=0),y))\n",
    "# test_ds=test.batch(1) \n",
    "test_ds=test_ds.map(lambda x,y:(model(x),y))\n"
   ]
  },
  {
   "cell_type": "code",
   "execution_count": 6,
   "metadata": {},
   "outputs": [
    {
     "name": "stderr",
     "output_type": "stream",
     "text": [
      "Corrupt JPEG data: 240 extraneous bytes before marker 0xd9\n",
      "Corrupt JPEG data: premature end of data segment\n"
     ]
    }
   ],
   "source": [
    "train_x=[]\n",
    "train_y=[]\n",
    "for x,y in train_ds:\n",
    "    train_x.append(x[0])\n",
    "    train_y.append(y)"
   ]
  },
  {
   "cell_type": "code",
   "execution_count": 7,
   "metadata": {},
   "outputs": [],
   "source": [
    "test_x=[]\n",
    "test_y=[]\n",
    "for x,y in test_ds:\n",
    "    test_x.append(x[0])\n",
    "    test_y.append(y)\n",
    "    "
   ]
  },
  {
   "cell_type": "code",
   "execution_count": 8,
   "metadata": {},
   "outputs": [
    {
     "data": {
      "text/plain": [
       "0.8383755791768874"
      ]
     },
     "execution_count": 8,
     "metadata": {},
     "output_type": "execute_result"
    }
   ],
   "source": [
    "from sklearn.neighbors import KNeighborsClassifier\n",
    "\n",
    "classifer=KNeighborsClassifier(n_neighbors=10,weights=\"distance\",algorithm=\"auto\")\n",
    "classifer.fit(train_x,train_y)\n",
    "classifer.score(test_x,test_y)"
   ]
  },
  {
   "cell_type": "code",
   "execution_count": 10,
   "metadata": {},
   "outputs": [
    {
     "name": "stdout",
     "output_type": "stream",
     "text": [
      "Best accuracy is 0.84518942491142 with  47 neighbors\n"
     ]
    }
   ],
   "source": [
    "weights=[\"distance\",\"uniform\"]  \n",
    "max_score=0\n",
    "best_n=0\n",
    "\n",
    "for n in range(1,101):\n",
    "    classifer=KNeighborsClassifier(n_neighbors=n,weights=\"distance\",algorithm=\"auto\")\n",
    "    classifer.fit(train_x,train_y)\n",
    "    score=classifer.score(test_x,test_y)\n",
    "    if score>max_score:\n",
    "        max_score=score\n",
    "        best_n=n\n",
    "print(f\"Best accuracy is {max_score} with  {best_n} neighbors\")"
   ]
  },
  {
   "cell_type": "code",
   "execution_count": 11,
   "metadata": {},
   "outputs": [
    {
     "name": "stdout",
     "output_type": "stream",
     "text": [
      "Best accuracy is 0.842463886617607 with  25 neighbors\n"
     ]
    }
   ],
   "source": [
    "max_score=0\n",
    "best_n=0\n",
    "for n in range(1,101):\n",
    "    classifer=KNeighborsClassifier(n_neighbors=n,weights=\"uniform\",algorithm=\"auto\")\n",
    "    classifer.fit(train_x,train_y)\n",
    "    score=classifer.score(test_x,test_y)\n",
    "    if score>max_score:\n",
    "        max_score=score\n",
    "        best_n=n\n",
    "print(f\"Best accuracy is {max_score} with  {best_n} neighbors\")"
   ]
  }
 ],
 "metadata": {
  "kernelspec": {
   "display_name": "tf",
   "language": "python",
   "name": "python3"
  },
  "language_info": {
   "codemirror_mode": {
    "name": "ipython",
    "version": 3
   },
   "file_extension": ".py",
   "mimetype": "text/x-python",
   "name": "python",
   "nbconvert_exporter": "python",
   "pygments_lexer": "ipython3",
   "version": "3.9.18"
  }
 },
 "nbformat": 4,
 "nbformat_minor": 2
}
