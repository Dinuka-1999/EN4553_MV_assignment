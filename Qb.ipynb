{
  "cells": [
    {
      "cell_type": "markdown",
      "metadata": {
        "id": "view-in-github",
        "colab_type": "text"
      },
      "source": [
        "<a href=\"https://colab.research.google.com/github/Dinuka-1999/EN4553_MV_assignment/blob/Uvin/Qb.ipynb\" target=\"_parent\"><img src=\"https://colab.research.google.com/assets/colab-badge.svg\" alt=\"Open In Colab\"/></a>"
      ]
    },
    {
      "cell_type": "markdown",
      "metadata": {
        "id": "r7pCNls3IDXV"
      },
      "source": [
        "## Loading Data"
      ]
    },
    {
      "cell_type": "code",
      "execution_count": null,
      "metadata": {
        "id": "fPKFj9j4IDXX"
      },
      "outputs": [],
      "source": [
        "import tensorflow as tf\n",
        "from tensorflow import keras\n",
        "import tensorflow_datasets as tfds\n",
        "from keras import layers\n",
        "from keras.callbacks import EarlyStopping\n",
        "import matplotlib.pyplot as plt"
      ]
    },
    {
      "cell_type": "code",
      "source": [
        "print(\"Tensorflow version \" + tf.__version__)\n",
        "\n",
        "try:\n",
        "  tpu = tf.distribute.cluster_resolver.TPUClusterResolver()  # TPU detection\n",
        "  print('Running on TPU ', tpu.cluster_spec().as_dict()['worker'])\n",
        "except ValueError:\n",
        "  raise BaseException('ERROR: Not connected to a TPU runtime; please see the previous cell in this notebook for instructions!')\n",
        "\n",
        "tf.config.experimental_connect_to_cluster(tpu)\n",
        "tf.tpu.experimental.initialize_tpu_system(tpu)\n",
        "tpu_strategy = tf.distribute.TPUStrategy(tpu)"
      ],
      "metadata": {
        "colab": {
          "base_uri": "https://localhost:8080/"
        },
        "id": "JkpnFPXzIWqb",
        "outputId": "bc598d57-6ada-49a2-8ea9-11673cd05491"
      },
      "execution_count": null,
      "outputs": [
        {
          "output_type": "stream",
          "name": "stdout",
          "text": [
            "Tensorflow version 2.12.0\n",
            "Running on TPU  ['10.68.15.26:8470']\n"
          ]
        }
      ]
    },
    {
      "cell_type": "code",
      "source": [
        "from google.colab import auth\n",
        "auth.authenticate_user()"
      ],
      "metadata": {
        "id": "TGEgFRpnRluF"
      },
      "execution_count": null,
      "outputs": []
    },
    {
      "cell_type": "code",
      "execution_count": null,
      "metadata": {
        "id": "CUviRNjcIDXY"
      },
      "outputs": [],
      "source": [
        "data_augmentation=keras.Sequential([\n",
        "    layers.RandomContrast(0.2),\n",
        "    layers.RandomFlip(\"horizontal\"),\n",
        "    layers.RandomRotation(0.2)\n",
        "])"
      ]
    },
    {
      "cell_type": "code",
      "source": [
        "#tfds.disable_progress_bar()\n",
        "train_60,val_20,test_20=tfds.load(\"oxford_iiit_pet\",split=[\"train\",\"test[:50%]\",\"test[50%:]\"],as_supervised=True,shuffle_files=True,data_dir=\"gs://dinuka_bucket\")"
      ],
      "metadata": {
        "id": "F8VKqJbiShrV"
      },
      "execution_count": null,
      "outputs": []
    },
    {
      "cell_type": "code",
      "execution_count": null,
      "metadata": {
        "id": "sW79pi9mIDXY"
      },
      "outputs": [],
      "source": [
        "resizing=layers.Resizing(224,224)\n",
        "train_60=train_60.map(lambda x,y:(resizing(x),y),num_parallel_calls=tf.data.AUTOTUNE)\n",
        "val_20=val_20.map(lambda x,y:(resizing(x),y),num_parallel_calls=tf.data.AUTOTUNE)\n",
        "test_20=test_20.map(lambda x,y:(resizing(x),y),num_parallel_calls=tf.data.AUTOTUNE)\n",
        "\n",
        "train_60_1=train_60.map(lambda x,y:(data_augmentation(x,training=True),y),num_parallel_calls=tf.data.AUTOTUNE)\n",
        "\n",
        "train_60_1=train_60.concatenate(train_60_1).shuffle(1000)\n",
        "\n",
        "batch_size = 128\n",
        "\n",
        "train_60_1= train_60_1.batch(batch_size).prefetch(tf.data.AUTOTUNE).cache()  # only to Fine tune the model\n",
        "\n",
        "train_60 = train_60.batch(batch_size).prefetch(tf.data.AUTOTUNE).cache()\n",
        "val_20 = val_20.batch(batch_size).prefetch(tf.data.AUTOTUNE).cache()\n",
        "test_20 = test_20.batch(batch_size).prefetch(tf.data.AUTOTUNE).cache()"
      ]
    },
    {
      "cell_type": "code",
      "execution_count": null,
      "metadata": {
        "id": "wk1wYM6IIDXY"
      },
      "outputs": [],
      "source": [
        "# train,test=tfds.load(\"oxford_iiit_pet\",split=[\"train\",\"test\"],as_supervised=True)\n",
        "\n",
        "# resizing=layers.Resizing(224,224)\n",
        "# train=train.map(lambda x,y:(resizing(x),y),num_parallel_calls=tf.data.AUTOTUNE)\n",
        "# test=test.map(lambda x,y:(resizing(x),y),num_parallel_calls=tf.data.AUTOTUNE)\n",
        "\n",
        "# train_1=train.map(lambda x,y:(data_augmentation(x,training=True),y),num_parallel_calls=tf.data.AUTOTUNE)\n",
        "\n",
        "# train=train.concatenate(train_1).shuffle(1000)\n",
        "\n",
        "# batch_size = 128\n",
        "\n",
        "# train = train.batch(batch_size).prefetch(tf.data.AUTOTUNE).cache()\n",
        "# test = test.batch(batch_size).prefetch(tf.data.AUTOTUNE).cache()"
      ]
    },
    {
      "cell_type": "code",
      "execution_count": null,
      "metadata": {
        "id": "0c3BfeBSIDXY"
      },
      "outputs": [],
      "source": [
        "# F10_train=tfds.load(\"oxford_iiit_pet\",split=[f\"train[:{r}%]+train[{r+10}%:]\" for r in range(0,100,10)],as_supervised=True)\n",
        "# F10_val=tfds.load(\"oxford_iiit_pet\",split=[f\"train[{r}%:{r+10}%]\" for r in range(0,100,10)],as_supervised=True)"
      ]
    },
    {
      "cell_type": "markdown",
      "metadata": {
        "id": "7qGj54zzIDXY"
      },
      "source": [
        "## Model"
      ]
    },
    {
      "cell_type": "code",
      "execution_count": null,
      "metadata": {
        "id": "mq1ry7xZIDXZ"
      },
      "outputs": [],
      "source": [
        "def create_model(base_model,lr,wd):\n",
        "  inputs=keras.Input(shape=(224,224,3))\n",
        "  preprocessing=tf.keras.applications.mobilenet_v2.preprocess_input(inputs)\n",
        "  x=base_model(preprocessing, training=False)\n",
        "  x=layers.Dense(256,activation=\"swish\")(x)\n",
        "  x=layers.Dropout(0.5)(x)\n",
        "  outputs=layers.Dense(37)(x)\n",
        "\n",
        "  model=keras.Model(inputs,outputs)\n",
        "  loss_fn=keras.losses.SparseCategoricalCrossentropy(from_logits=True)\n",
        "  optimizers=keras.optimizers.Adam(learning_rate=lr,weight_decay=wd)\n",
        "\n",
        "  model.compile(optimizer=optimizers,loss=loss_fn,metrics=[keras.metrics.SparseTopKCategoricalAccuracy( k=1, name=\"accuracy\")])\n",
        "  return model"
      ]
    },
    {
      "cell_type": "code",
      "source": [
        "with tpu_strategy.scope():\n",
        "  base_model=keras.applications.MobileNetV2(include_top=False,weights=\"imagenet\",input_shape=(224,224,3),pooling=\"avg\")\n",
        "  base_model.trainable=False\n",
        "  model=create_model(base_model,lr=0.002,wd=0.0005)"
      ],
      "metadata": {
        "id": "99hLgkPaWDmU",
        "colab": {
          "base_uri": "https://localhost:8080/"
        },
        "outputId": "c7e9409b-1ea0-4493-fee5-3b33de63dc28"
      },
      "execution_count": null,
      "outputs": [
        {
          "output_type": "stream",
          "name": "stdout",
          "text": [
            "Downloading data from https://storage.googleapis.com/tensorflow/keras-applications/mobilenet_v2/mobilenet_v2_weights_tf_dim_ordering_tf_kernels_1.0_224_no_top.h5\n",
            "9406464/9406464 [==============================] - 0s 0us/step\n"
          ]
        }
      ]
    },
    {
      "cell_type": "code",
      "execution_count": null,
      "metadata": {
        "id": "OExbYBaZIDXZ",
        "outputId": "2b226ddf-e030-4abe-9323-e5fec4bea3d2",
        "colab": {
          "base_uri": "https://localhost:8080/"
        }
      },
      "outputs": [
        {
          "output_type": "stream",
          "name": "stdout",
          "text": [
            "Model: \"model\"\n",
            "____________________________________________________________________________\n",
            " Layer (type)                Output Shape              Param #   Trainable  \n",
            "============================================================================\n",
            " input_2 (InputLayer)        [(None, 224, 224, 3)]     0         Y          \n",
            "                                                                            \n",
            " tf.math.truediv (TFOpLambda  (None, 224, 224, 3)      0         Y          \n",
            " )                                                                          \n",
            "                                                                            \n",
            " tf.math.subtract (TFOpLambd  (None, 224, 224, 3)      0         Y          \n",
            " a)                                                                         \n",
            "                                                                            \n",
            " mobilenetv2_1.00_224 (Funct  (None, 1280)             2257984   N          \n",
            " ional)                                                                     \n",
            "                                                                            \n",
            " dense (Dense)               (None, 256)               327936    Y          \n",
            "                                                                            \n",
            " dropout (Dropout)           (None, 256)               0         Y          \n",
            "                                                                            \n",
            " dense_1 (Dense)             (None, 37)                9509      Y          \n",
            "                                                                            \n",
            "============================================================================\n",
            "Total params: 2,595,429\n",
            "Trainable params: 337,445\n",
            "Non-trainable params: 2,257,984\n",
            "____________________________________________________________________________\n"
          ]
        }
      ],
      "source": [
        "model.summary(show_trainable=True)"
      ]
    },
    {
      "cell_type": "markdown",
      "source": [
        "learning rate, weight decay, batch size, model\n",
        "\n",
        "training acc, val acc, test acc(most important), top 1 , top 3"
      ],
      "metadata": {
        "id": "OVu1uLZfvD09"
      }
    },
    {
      "cell_type": "code",
      "execution_count": null,
      "metadata": {
        "id": "wB3pHo-CIDXZ",
        "outputId": "d22faacd-7160-4d3f-9213-4f29973c3fd4",
        "colab": {
          "base_uri": "https://localhost:8080/"
        }
      },
      "outputs": [
        {
          "output_type": "stream",
          "name": "stdout",
          "text": [
            "Epoch 1/2\n",
            "29/29 [==============================] - 29s 473ms/step - loss: 1.2234 - accuracy: 0.6633 - val_loss: 0.4178 - val_accuracy: 0.8577\n",
            "Epoch 2/2\n",
            "29/29 [==============================] - 3s 109ms/step - loss: 0.3314 - accuracy: 0.8992 - val_loss: 0.3680 - val_accuracy: 0.8779\n"
          ]
        }
      ],
      "source": [
        "callback=EarlyStopping(monitor=\"val_loss\",patience=5,restore_best_weights=True)\n",
        "history=model.fit(train_60,epochs=2,validation_data=val_20)"
      ]
    },
    {
      "cell_type": "code",
      "source": [
        "model.evaluate(test_20)"
      ],
      "metadata": {
        "colab": {
          "base_uri": "https://localhost:8080/"
        },
        "id": "T7KNwEQI30ay",
        "outputId": "6550a405-3a4b-4c7b-8d45-694b20ebf257"
      },
      "execution_count": null,
      "outputs": [
        {
          "output_type": "stream",
          "name": "stdout",
          "text": [
            "15/15 [==============================] - 3s 47ms/step - loss: 0.3239 - accuracy: 0.8975\n"
          ]
        },
        {
          "output_type": "execute_result",
          "data": {
            "text/plain": [
              "[0.3238573968410492, 0.8975476622581482]"
            ]
          },
          "metadata": {},
          "execution_count": 10
        }
      ]
    },
    {
      "cell_type": "code",
      "source": [
        "model.save_weights('model.weights.h5')\n",
        "model.save('model.keras')"
      ],
      "metadata": {
        "id": "9vJxv4Lx2-o_"
      },
      "execution_count": null,
      "outputs": []
    },
    {
      "cell_type": "code",
      "source": [
        "training_accuracy = history.history['accuracy']\n",
        "val_accuracy=history.history['val_accuracy']\n",
        "training_loss = history.history['loss']\n",
        "val_loss=history.history['val_loss']\n",
        "epochs = range(1, len(training_accuracy) + 1)\n",
        "\n",
        "# Plot training loss against epochs\n",
        "# plt.figure(figsize=(6, 6))\n",
        "plt.plot(epochs, training_accuracy, label='Training accuracy')\n",
        "plt.plot(epochs, val_accuracy, label='Validation accuracy')\n",
        "plt.plot(epochs, training_loss, label='Training loss')\n",
        "plt.plot(epochs, val_loss, label='Validation loss')\n",
        "plt.grid()\n",
        "plt.xlabel('Epochs')\n",
        "plt.ylabel('Loss')\n",
        "plt.legend()\n",
        "plt.show()\n",
        "plt.savefig('books_read.png')\n"
      ],
      "metadata": {
        "colab": {
          "base_uri": "https://localhost:8080/",
          "height": 466
        },
        "id": "h2UCHJUzzewR",
        "outputId": "5c804246-ad51-4e46-d5a9-a5fe7b211694"
      },
      "execution_count": null,
      "outputs": [
        {
          "output_type": "display_data",
          "data": {
            "text/plain": [
              "<Figure size 640x480 with 1 Axes>"
            ],
            "image/png": "[encoded data removed]"
          },
          "metadata": {}
        },
        {
          "output_type": "display_data",
          "data": {
            "text/plain": [
              "<Figure size 640x480 with 0 Axes>"
            ]
          },
          "metadata": {}
        }
      ]
    },
    {
      "cell_type": "markdown",
      "source": [
        "## Fine tune"
      ],
      "metadata": {
        "id": "f9DVViPBwIHB"
      }
    },
    {
      "cell_type": "code",
      "execution_count": null,
      "metadata": {
        "id": "cluPWROQIDXa"
      },
      "outputs": [],
      "source": [
        "base_model.trainable=True"
      ]
    },
    {
      "cell_type": "code",
      "execution_count": null,
      "metadata": {
        "id": "_tcjkavmIDXa",
        "colab": {
          "base_uri": "https://localhost:8080/"
        },
        "outputId": "bf840b00-9b51-4016-a363-d002382e9337"
      },
      "outputs": [
        {
          "output_type": "stream",
          "name": "stdout",
          "text": [
            "Model: \"model\"\n",
            "____________________________________________________________________________\n",
            " Layer (type)                Output Shape              Param #   Trainable  \n",
            "============================================================================\n",
            " input_2 (InputLayer)        [(None, 224, 224, 3)]     0         Y          \n",
            "                                                                            \n",
            " tf.math.truediv (TFOpLambda  (None, 224, 224, 3)      0         Y          \n",
            " )                                                                          \n",
            "                                                                            \n",
            " tf.math.subtract (TFOpLambd  (None, 224, 224, 3)      0         Y          \n",
            " a)                                                                         \n",
            "                                                                            \n",
            " mobilenetv2_1.00_224 (Funct  (None, 1280)             2257984   Y          \n",
            " ional)                                                                     \n",
            "                                                                            \n",
            " dense (Dense)               (None, 256)               327936    Y          \n",
            "                                                                            \n",
            " dropout (Dropout)           (None, 256)               0         Y          \n",
            "                                                                            \n",
            " dense_1 (Dense)             (None, 37)                9509      Y          \n",
            "                                                                            \n",
            "============================================================================\n",
            "Total params: 2,595,429\n",
            "Trainable params: 2,561,317\n",
            "Non-trainable params: 34,112\n",
            "____________________________________________________________________________\n"
          ]
        }
      ],
      "source": [
        "model.summary(show_trainable=True)"
      ]
    },
    {
      "cell_type": "code",
      "source": [
        "with tpu_strategy.scope():\n",
        "  loss_fn=keras.losses.SparseCategoricalCrossentropy(from_logits=True)\n",
        "  optimizers=keras.optimizers.Adam(learning_rate=0.000001,weight_decay=0.00000001)\n",
        "\n",
        "  model.compile(optimizer=optimizers,loss=loss_fn,metrics=[keras.metrics.SparseTopKCategoricalAccuracy( k=1, name=\"accuracy\")])"
      ],
      "metadata": {
        "id": "hj0EG_HN4lrP"
      },
      "execution_count": null,
      "outputs": []
    },
    {
      "cell_type": "code",
      "source": [
        "callback=EarlyStopping(monitor=\"val_loss\",patience=5,restore_best_weights=True)\n",
        "history=model.fit(train_60,epochs=14,validation_data=val_20)"
      ],
      "metadata": {
        "id": "u_IAKddZ6gZ1"
      },
      "execution_count": null,
      "outputs": []
    },
    {
      "cell_type": "code",
      "source": [
        "model.evaluate(test_20)"
      ],
      "metadata": {
        "colab": {
          "base_uri": "https://localhost:8080/"
        },
        "id": "8z4XN7GnATaH",
        "outputId": "6ec80d5f-8702-4710-a5f0-713aac5f8a4c"
      },
      "execution_count": null,
      "outputs": [
        {
          "output_type": "stream",
          "name": "stdout",
          "text": [
            "15/15 [==============================] - 2s 53ms/step - loss: 0.3026 - accuracy: 0.9128\n"
          ]
        },
        {
          "output_type": "execute_result",
          "data": {
            "text/plain": [
              "[0.3025510907173157, 0.912806510925293]"
            ]
          },
          "metadata": {},
          "execution_count": 19
        }
      ]
    }
  ],
  "metadata": {
    "kernelspec": {
      "display_name": "Python 3",
      "name": "python3"
    },
    "language_info": {
      "codemirror_mode": {
        "name": "ipython",
        "version": 3
      },
      "file_extension": ".py",
      "mimetype": "text/x-python",
      "name": "python",
      "nbconvert_exporter": "python",
      "pygments_lexer": "ipython3",
      "version": "3.9.18"
    },
    "colab": {
      "provenance": [],
      "include_colab_link": true
    },
    "accelerator": "TPU"
  },
  "nbformat": 4,
  "nbformat_minor": 0
}