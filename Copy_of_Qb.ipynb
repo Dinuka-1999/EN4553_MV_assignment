{
  "cells": [
    {
      "cell_type": "markdown",
      "metadata": {
        "id": "view-in-github",
        "colab_type": "text"
      },
      "source": [
        "<a href=\"https://colab.research.google.com/github/Dinuka-1999/EN4553_MV_assignment/blob/Uvin/Copy_of_Qb.ipynb\" target=\"_parent\"><img src=\"https://colab.research.google.com/assets/colab-badge.svg\" alt=\"Open In Colab\"/></a>"
      ]
    },
    {
      "cell_type": "markdown",
      "metadata": {
        "id": "r7pCNls3IDXV"
      },
      "source": [
        "## Loading Data"
      ]
    },
    {
      "cell_type": "code",
      "execution_count": 256,
      "metadata": {
        "id": "fPKFj9j4IDXX"
      },
      "outputs": [],
      "source": [
        "import tensorflow as tf\n",
        "from tensorflow import keras\n",
        "import tensorflow_datasets as tfds\n",
        "from keras import layers\n",
        "from keras.callbacks import EarlyStopping\n",
        "import matplotlib.pyplot as plt"
      ]
    },
    {
      "cell_type": "code",
      "source": [
        "print(\"Tensorflow version \" + tf.__version__)\n",
        "\n",
        "try:\n",
        "  tpu = tf.distribute.cluster_resolver.TPUClusterResolver()  # TPU detection\n",
        "  print('Running on TPU ', tpu.cluster_spec().as_dict()['worker'])\n",
        "except ValueError:\n",
        "  raise BaseException('ERROR: Not connected to a TPU runtime; please see the previous cell in this notebook for instructions!')\n",
        "\n",
        "tf.config.experimental_connect_to_cluster(tpu)\n",
        "tf.tpu.experimental.initialize_tpu_system(tpu)\n",
        "tpu_strategy = tf.distribute.TPUStrategy(tpu)"
      ],
      "metadata": {
        "colab": {
          "base_uri": "https://localhost:8080/"
        },
        "id": "JkpnFPXzIWqb",
        "outputId": "f25bbe51-600d-410a-978c-fd0d736c4c19"
      },
      "execution_count": 257,
      "outputs": [
        {
          "output_type": "stream",
          "name": "stdout",
          "text": [
            "Tensorflow version 2.12.0\n",
            "Running on TPU  ['10.40.179.18:8470']\n"
          ]
        },
        {
          "output_type": "stream",
          "name": "stderr",
          "text": [
            "WARNING:tensorflow:TPU system grpc://10.40.179.18:8470 has already been initialized. Reinitializing the TPU can cause previously created variables on TPU to be lost.\n"
          ]
        }
      ]
    },
    {
      "cell_type": "code",
      "source": [
        "from google.colab import auth\n",
        "auth.authenticate_user()"
      ],
      "metadata": {
        "id": "TGEgFRpnRluF"
      },
      "execution_count": 258,
      "outputs": []
    },
    {
      "cell_type": "code",
      "execution_count": 259,
      "metadata": {
        "id": "CUviRNjcIDXY"
      },
      "outputs": [],
      "source": [
        "# data_augmentation=keras.Sequential([\n",
        "#     layers.RandomContrast(0.2),\n",
        "#     layers.RandomFlip(\"horizontal\"),\n",
        "#     layers.RandomRotation(0.2)\n",
        "\n",
        "# ])\n",
        "\n",
        "data_augmentation = keras.Sequential([\n",
        "    layers.RandomContrast(0.2),\n",
        "    layers.RandomFlip(\"horizontal\"),\n",
        "    layers.RandomRotation(0.2),\n",
        "    layers.RandomZoom(0.2),\n",
        "    layers.RandomBrightness(0.2),\n",
        "    layers.GaussianNoise(stddev=0.01),\n",
        "])"
      ]
    },
    {
      "cell_type": "code",
      "source": [
        "#tfds.disable_progress_bar()\n",
        "train_60,val_20,test_20=tfds.load(\"oxford_iiit_pet\",split=[\"train\",\"test[:50%]\",\"test[50%:]\"],as_supervised=True,shuffle_files=True,data_dir=\"gs://dinuka_bucket\")"
      ],
      "metadata": {
        "id": "F8VKqJbiShrV"
      },
      "execution_count": 260,
      "outputs": []
    },
    {
      "cell_type": "code",
      "execution_count": 261,
      "metadata": {
        "id": "sW79pi9mIDXY"
      },
      "outputs": [],
      "source": [
        "resizing=layers.Resizing(224,224)\n",
        "train_60=train_60.map(lambda x,y:(resizing(x),y),num_parallel_calls=tf.data.AUTOTUNE)\n",
        "val_20=val_20.map(lambda x,y:(resizing(x),y),num_parallel_calls=tf.data.AUTOTUNE)\n",
        "test_20=test_20.map(lambda x,y:(resizing(x),y),num_parallel_calls=tf.data.AUTOTUNE)\n",
        "\n",
        "train_60_1=train_60.map(lambda x,y:(data_augmentation(x,training=True),y),num_parallel_calls=tf.data.AUTOTUNE)\n",
        "\n",
        "train_60_1=train_60.concatenate(train_60_1).shuffle(1000)\n",
        "\n",
        "batch_size = 64\n",
        "\n",
        "train_60_1= train_60_1.batch(batch_size).prefetch(tf.data.AUTOTUNE).cache()  # only to Fine tune the model\n",
        "\n",
        "train_60 = train_60.batch(batch_size).prefetch(tf.data.AUTOTUNE).cache()\n",
        "val_20 = val_20.batch(batch_size).prefetch(tf.data.AUTOTUNE).cache()\n",
        "test_20 = test_20.batch(batch_size).prefetch(tf.data.AUTOTUNE).cache()"
      ]
    },
    {
      "cell_type": "code",
      "source": [],
      "metadata": {
        "id": "wOEf8nRn0hlf"
      },
      "execution_count": 261,
      "outputs": []
    },
    {
      "cell_type": "code",
      "execution_count": 262,
      "metadata": {
        "id": "wk1wYM6IIDXY"
      },
      "outputs": [],
      "source": [
        "# train,test=tfds.load(\"oxford_iiit_pet\",split=[\"train\",\"test\"],as_supervised=True)\n",
        "\n",
        "# resizing=layers.Resizing(224,224)\n",
        "# train=train.map(lambda x,y:(resizing(x),y),num_parallel_calls=tf.data.AUTOTUNE)\n",
        "# test=test.map(lambda x,y:(resizing(x),y),num_parallel_calls=tf.data.AUTOTUNE)\n",
        "\n",
        "# train_1=train.map(lambda x,y:(data_augmentation(x,training=True),y),num_parallel_calls=tf.data.AUTOTUNE)\n",
        "\n",
        "# train=train.concatenate(train_1).shuffle(1000)\n",
        "\n",
        "# batch_size = 128\n",
        "\n",
        "# train = train.batch(batch_size).prefetch(tf.data.AUTOTUNE).cache()\n",
        "# test = test.batch(batch_size).prefetch(tf.data.AUTOTUNE).cache()"
      ]
    },
    {
      "cell_type": "code",
      "execution_count": 263,
      "metadata": {
        "id": "0c3BfeBSIDXY"
      },
      "outputs": [],
      "source": [
        "# F10_train=tfds.load(\"oxford_iiit_pet\",split=[f\"train[:{r}%]+train[{r+10}%:]\" for r in range(0,100,10)],as_supervised=True)\n",
        "# F10_val=tfds.load(\"oxford_iiit_pet\",split=[f\"train[{r}%:{r+10}%]\" for r in range(0,100,10)],as_supervised=True)"
      ]
    },
    {
      "cell_type": "markdown",
      "metadata": {
        "id": "7qGj54zzIDXY"
      },
      "source": [
        "## Model"
      ]
    },
    {
      "cell_type": "code",
      "execution_count": 264,
      "metadata": {
        "id": "mq1ry7xZIDXZ"
      },
      "outputs": [],
      "source": [
        "def create_model(base_model,lr,wd):\n",
        "  inputs=keras.Input(shape=(224,224,3))\n",
        "  preprocessing=tf.keras.applications.mobilenet_v2.preprocess_input(inputs)\n",
        "  x=base_model(preprocessing, training=False)\n",
        "  x=layers.Dense(256,activation=\"swish\")(x)\n",
        "  x=layers.Dropout(0.5)(x)\n",
        "  outputs=layers.Dense(37)(x)\n",
        "\n",
        "  model=keras.Model(inputs,outputs)\n",
        "  loss_fn=keras.losses.SparseCategoricalCrossentropy(from_logits=True)\n",
        "  optimizers=keras.optimizers.Adam(learning_rate=lr,weight_decay=wd)\n",
        "\n",
        "  model.compile(optimizer=optimizers,loss=loss_fn,metrics=[keras.metrics.SparseTopKCategoricalAccuracy( k=1, name=\"accuracy\")])\n",
        "  return model"
      ]
    },
    {
      "cell_type": "code",
      "source": [
        "with tpu_strategy.scope():\n",
        "  base_model=keras.applications.MobileNetV2(include_top=False,weights=\"imagenet\",input_shape=(224,224,3),pooling=\"avg\")\n",
        "  base_model.trainable=False\n",
        "  model=create_model(base_model,lr=0.002,wd=0.005)"
      ],
      "metadata": {
        "id": "99hLgkPaWDmU"
      },
      "execution_count": 265,
      "outputs": []
    },
    {
      "cell_type": "code",
      "execution_count": 266,
      "metadata": {
        "id": "OExbYBaZIDXZ",
        "outputId": "6c72f161-eb9d-4a51-a321-a49cd555d42d",
        "colab": {
          "base_uri": "https://localhost:8080/"
        }
      },
      "outputs": [
        {
          "output_type": "stream",
          "name": "stdout",
          "text": [
            "Model: \"model_16\"\n",
            "____________________________________________________________________________\n",
            " Layer (type)                Output Shape              Param #   Trainable  \n",
            "============================================================================\n",
            " input_34 (InputLayer)       [(None, 224, 224, 3)]     0         Y          \n",
            "                                                                            \n",
            " tf.math.truediv_3 (TFOpLamb  (None, 224, 224, 3)      0         Y          \n",
            " da)                                                                        \n",
            "                                                                            \n",
            " tf.math.subtract_3 (TFOpLam  (None, 224, 224, 3)      0         Y          \n",
            " bda)                                                                       \n",
            "                                                                            \n",
            " mobilenetv2_1.00_224 (Funct  (None, 1280)             2257984   N          \n",
            " ional)                                                                     \n",
            "                                                                            \n",
            " dense_32 (Dense)            (None, 256)               327936    Y          \n",
            "                                                                            \n",
            " dropout_16 (Dropout)        (None, 256)               0         Y          \n",
            "                                                                            \n",
            " dense_33 (Dense)            (None, 37)                9509      Y          \n",
            "                                                                            \n",
            "============================================================================\n",
            "Total params: 2,595,429\n",
            "Trainable params: 337,445\n",
            "Non-trainable params: 2,257,984\n",
            "____________________________________________________________________________\n"
          ]
        }
      ],
      "source": [
        "model.summary(show_trainable=True)"
      ]
    },
    {
      "cell_type": "markdown",
      "source": [
        "learning rate, weight decay, batch size, model\n",
        "\n",
        "training acc, val acc, test acc(most important), top 1 , top 3"
      ],
      "metadata": {
        "id": "OVu1uLZfvD09"
      }
    },
    {
      "cell_type": "code",
      "execution_count": 267,
      "metadata": {
        "id": "wB3pHo-CIDXZ",
        "outputId": "012a23a8-6b0e-4fa9-b2ea-885fd3fddd43",
        "colab": {
          "base_uri": "https://localhost:8080/"
        }
      },
      "outputs": [
        {
          "output_type": "stream",
          "name": "stdout",
          "text": [
            "Epoch 1/50\n",
            "58/58 [==============================] - 27s 253ms/step - loss: 1.0580 - accuracy: 0.7049 - val_loss: 0.4310 - val_accuracy: 0.8550\n",
            "Epoch 2/50\n",
            "58/58 [==============================] - 6s 102ms/step - loss: 0.3205 - accuracy: 0.8954 - val_loss: 0.3950 - val_accuracy: 0.8735\n",
            "Epoch 3/50\n",
            "58/58 [==============================] - 5s 94ms/step - loss: 0.2246 - accuracy: 0.9253 - val_loss: 0.3534 - val_accuracy: 0.8855\n",
            "Epoch 4/50\n",
            "58/58 [==============================] - 4s 68ms/step - loss: 0.1727 - accuracy: 0.9397 - val_loss: 0.3819 - val_accuracy: 0.8882\n",
            "Epoch 5/50\n",
            "58/58 [==============================] - 4s 72ms/step - loss: 0.1214 - accuracy: 0.9620 - val_loss: 0.3725 - val_accuracy: 0.8844\n",
            "Epoch 6/50\n",
            "58/58 [==============================] - 5s 84ms/step - loss: 0.0898 - accuracy: 0.9701 - val_loss: 0.4263 - val_accuracy: 0.8784\n",
            "Epoch 7/50\n",
            "58/58 [==============================] - 5s 78ms/step - loss: 0.0813 - accuracy: 0.9747 - val_loss: 0.4168 - val_accuracy: 0.8806\n",
            "Epoch 8/50\n",
            "58/58 [==============================] - 7s 122ms/step - loss: 0.0813 - accuracy: 0.9742 - val_loss: 0.4517 - val_accuracy: 0.8740\n"
          ]
        }
      ],
      "source": [
        "callback=EarlyStopping(monitor=\"val_loss\",patience=5,restore_best_weights=True)\n",
        "history=model.fit(train_60,epochs=50,validation_data=val_20,callbacks=[callback])"
      ]
    },
    {
      "cell_type": "code",
      "source": [
        "model.evaluate(test_20)"
      ],
      "metadata": {
        "colab": {
          "base_uri": "https://localhost:8080/"
        },
        "id": "T7KNwEQI30ay",
        "outputId": "b9a86240-08e4-4bd0-dfd0-a057bd0d895d"
      },
      "execution_count": 268,
      "outputs": [
        {
          "output_type": "stream",
          "name": "stdout",
          "text": [
            "29/29 [==============================] - 3s 39ms/step - loss: 0.3136 - accuracy: 0.8986\n"
          ]
        },
        {
          "output_type": "execute_result",
          "data": {
            "text/plain": [
              "[0.31363049149513245, 0.898637592792511]"
            ]
          },
          "metadata": {},
          "execution_count": 268
        }
      ]
    },
    {
      "cell_type": "code",
      "source": [
        "model.save_weights('model.weights.h5')\n",
        "model.save('model.keras')"
      ],
      "metadata": {
        "id": "9vJxv4Lx2-o_"
      },
      "execution_count": 269,
      "outputs": []
    },
    {
      "cell_type": "code",
      "source": [
        "training_accuracy = history.history['accuracy']\n",
        "val_accuracy=history.history['val_accuracy']\n",
        "training_loss = history.history['loss']\n",
        "val_loss=history.history['val_loss']\n",
        "epochs = range(1, len(training_accuracy) + 1)\n",
        "\n",
        "# Plot training loss against epochs\n",
        "# plt.figure(figsize=(6, 6))\n",
        "plt.plot(epochs, training_accuracy, label='Training accuracy')\n",
        "plt.plot(epochs, val_accuracy, label='Validation accuracy')\n",
        "plt.plot(epochs, training_loss, label='Training loss')\n",
        "plt.plot(epochs, val_loss, label='Validation loss')\n",
        "plt.grid()\n",
        "plt.xlabel('Epochs')\n",
        "plt.ylabel('Loss')\n",
        "plt.legend()\n",
        "plt.show()\n",
        "plt.savefig('books_read.png')\n"
      ],
      "metadata": {
        "colab": {
          "base_uri": "https://localhost:8080/",
          "height": 466
        },
        "id": "h2UCHJUzzewR",
        "outputId": "2d764bc3-9fac-4449-dcfc-2112643e7873"
      },
      "execution_count": 270,
      "outputs": [
        {
          "output_type": "display_data",
          "data": {
            "text/plain": [
              "<Figure size 640x480 with 1 Axes>"
            ],
            "image/png": "[encoded data removed]"
          },
          "metadata": {}
        },
        {
          "output_type": "display_data",
          "data": {
            "text/plain": [
              "<Figure size 640x480 with 0 Axes>"
            ]
          },
          "metadata": {}
        }
      ]
    },
    {
      "cell_type": "markdown",
      "source": [
        "## Fine tune"
      ],
      "metadata": {
        "id": "f9DVViPBwIHB"
      }
    },
    {
      "cell_type": "code",
      "execution_count": 271,
      "metadata": {
        "id": "cluPWROQIDXa"
      },
      "outputs": [],
      "source": [
        "base_model.trainable=True"
      ]
    },
    {
      "cell_type": "code",
      "execution_count": 272,
      "metadata": {
        "id": "_tcjkavmIDXa",
        "colab": {
          "base_uri": "https://localhost:8080/"
        },
        "outputId": "ff620816-70d9-4cc3-d4dc-321b012560c3"
      },
      "outputs": [
        {
          "output_type": "stream",
          "name": "stdout",
          "text": [
            "Model: \"model_16\"\n",
            "____________________________________________________________________________\n",
            " Layer (type)                Output Shape              Param #   Trainable  \n",
            "============================================================================\n",
            " input_34 (InputLayer)       [(None, 224, 224, 3)]     0         Y          \n",
            "                                                                            \n",
            " tf.math.truediv_3 (TFOpLamb  (None, 224, 224, 3)      0         Y          \n",
            " da)                                                                        \n",
            "                                                                            \n",
            " tf.math.subtract_3 (TFOpLam  (None, 224, 224, 3)      0         Y          \n",
            " bda)                                                                       \n",
            "                                                                            \n",
            " mobilenetv2_1.00_224 (Funct  (None, 1280)             2257984   Y          \n",
            " ional)                                                                     \n",
            "                                                                            \n",
            " dense_32 (Dense)            (None, 256)               327936    Y          \n",
            "                                                                            \n",
            " dropout_16 (Dropout)        (None, 256)               0         Y          \n",
            "                                                                            \n",
            " dense_33 (Dense)            (None, 37)                9509      Y          \n",
            "                                                                            \n",
            "============================================================================\n",
            "Total params: 2,595,429\n",
            "Trainable params: 2,561,317\n",
            "Non-trainable params: 34,112\n",
            "____________________________________________________________________________\n"
          ]
        }
      ],
      "source": [
        "model.summary(show_trainable=True)"
      ]
    },
    {
      "cell_type": "code",
      "source": [
        "with tpu_strategy.scope():\n",
        "  loss_fn=keras.losses.SparseCategoricalCrossentropy(from_logits=True)\n",
        "  optimizers=keras.optimizers.Adam(learning_rate=0.000001,weight_decay=0.00000001)\n",
        "\n",
        "  model.compile(optimizer=optimizers,loss=loss_fn,metrics=[keras.metrics.SparseTopKCategoricalAccuracy( k=1, name=\"accuracy\")])"
      ],
      "metadata": {
        "id": "hj0EG_HN4lrP"
      },
      "execution_count": 273,
      "outputs": []
    },
    {
      "cell_type": "code",
      "source": [
        "callback=EarlyStopping(monitor=\"val_loss\",patience=5,restore_best_weights=True)\n",
        "history=model.fit(train_60_1,epochs=14,validation_data=val_20)"
      ],
      "metadata": {
        "colab": {
          "base_uri": "https://localhost:8080/"
        },
        "id": "u_IAKddZ6gZ1",
        "outputId": "d681c830-bb56-4df2-badf-24b628ad56e2"
      },
      "execution_count": 274,
      "outputs": [
        {
          "output_type": "stream",
          "name": "stdout",
          "text": [
            "Epoch 1/14\n",
            "115/115 [==============================] - 61s 137ms/step - loss: 0.4446 - accuracy: 0.8711 - val_loss: 0.3301 - val_accuracy: 0.8937\n",
            "Epoch 2/14\n",
            "115/115 [==============================] - 8s 73ms/step - loss: 0.4092 - accuracy: 0.8774 - val_loss: 0.3248 - val_accuracy: 0.8920\n",
            "Epoch 3/14\n",
            "115/115 [==============================] - 9s 74ms/step - loss: 0.3770 - accuracy: 0.8815 - val_loss: 0.3221 - val_accuracy: 0.8926\n",
            "Epoch 4/14\n",
            "115/115 [==============================] - 9s 76ms/step - loss: 0.3685 - accuracy: 0.8867 - val_loss: 0.3230 - val_accuracy: 0.8931\n",
            "Epoch 5/14\n",
            "115/115 [==============================] - 9s 76ms/step - loss: 0.3456 - accuracy: 0.8916 - val_loss: 0.3203 - val_accuracy: 0.8931\n",
            "Epoch 6/14\n",
            "115/115 [==============================] - 8s 73ms/step - loss: 0.3306 - accuracy: 0.8939 - val_loss: 0.3174 - val_accuracy: 0.8937\n",
            "Epoch 7/14\n",
            "115/115 [==============================] - 9s 76ms/step - loss: 0.3252 - accuracy: 0.8976 - val_loss: 0.3188 - val_accuracy: 0.8920\n",
            "Epoch 8/14\n",
            "115/115 [==============================] - 9s 76ms/step - loss: 0.3191 - accuracy: 0.9007 - val_loss: 0.3171 - val_accuracy: 0.8959\n",
            "Epoch 9/14\n",
            "115/115 [==============================] - 9s 74ms/step - loss: 0.3153 - accuracy: 0.9041 - val_loss: 0.3172 - val_accuracy: 0.8959\n",
            "Epoch 10/14\n",
            "115/115 [==============================] - 9s 76ms/step - loss: 0.3006 - accuracy: 0.9052 - val_loss: 0.3156 - val_accuracy: 0.8942\n",
            "Epoch 11/14\n",
            "115/115 [==============================] - 9s 75ms/step - loss: 0.3014 - accuracy: 0.9058 - val_loss: 0.3156 - val_accuracy: 0.8931\n",
            "Epoch 12/14\n",
            "115/115 [==============================] - 9s 77ms/step - loss: 0.2826 - accuracy: 0.9114 - val_loss: 0.3172 - val_accuracy: 0.8937\n",
            "Epoch 13/14\n",
            "115/115 [==============================] - 9s 74ms/step - loss: 0.2742 - accuracy: 0.9135 - val_loss: 0.3170 - val_accuracy: 0.8937\n",
            "Epoch 14/14\n",
            "115/115 [==============================] - 9s 75ms/step - loss: 0.2708 - accuracy: 0.9167 - val_loss: 0.3154 - val_accuracy: 0.8948\n"
          ]
        }
      ]
    },
    {
      "cell_type": "code",
      "source": [
        "model.evaluate(test_20)"
      ],
      "metadata": {
        "colab": {
          "base_uri": "https://localhost:8080/"
        },
        "id": "8z4XN7GnATaH",
        "outputId": "abf36edc-d3a9-44f5-cd7d-bf0c65c48041"
      },
      "execution_count": 275,
      "outputs": [
        {
          "output_type": "stream",
          "name": "stdout",
          "text": [
            "29/29 [==============================] - 2s 36ms/step - loss: 0.2808 - accuracy: 0.9112\n"
          ]
        },
        {
          "output_type": "execute_result",
          "data": {
            "text/plain": [
              "[0.2808037996292114, 0.9111716747283936]"
            ]
          },
          "metadata": {},
          "execution_count": 275
        }
      ]
    },
    {
      "cell_type": "code",
      "source": [
        "training_accuracy = history.history['accuracy']\n",
        "val_accuracy=history.history['val_accuracy']\n",
        "training_loss = history.history['loss']\n",
        "val_loss=history.history['val_loss']\n",
        "epochs = range(1, len(training_accuracy) + 1)\n",
        "\n",
        "# Plot training loss against epochs\n",
        "# plt.figure(figsize=(6, 6))\n",
        "plt.plot(epochs, training_accuracy, label='Training accuracy')\n",
        "plt.plot(epochs, val_accuracy, label='Validation accuracy')\n",
        "plt.plot(epochs, training_loss, label='Training loss')\n",
        "plt.plot(epochs, val_loss, label='Validation loss')\n",
        "plt.grid()\n",
        "plt.xlabel('Epochs')\n",
        "plt.ylabel('Loss')\n",
        "plt.legend()\n",
        "plt.show()\n",
        "plt.savefig('books_read.png')\n"
      ],
      "metadata": {
        "colab": {
          "base_uri": "https://localhost:8080/",
          "height": 466
        },
        "id": "9bmuE3NEEzem",
        "outputId": "670691d4-a234-40ed-8fa7-62c1822ac536"
      },
      "execution_count": 276,
      "outputs": [
        {
          "output_type": "display_data",
          "data": {
            "text/plain": [
              "<Figure size 640x480 with 1 Axes>"
            ],
            "image/png": "[encoded data removed]"
          },
          "metadata": {}
        },
        {
          "output_type": "display_data",
          "data": {
            "text/plain": [
              "<Figure size 640x480 with 0 Axes>"
            ]
          },
          "metadata": {}
        }
      ]
    }
  ],
  "metadata": {
    "kernelspec": {
      "display_name": "Python 3",
      "name": "python3"
    },
    "language_info": {
      "codemirror_mode": {
        "name": "ipython",
        "version": 3
      },
      "file_extension": ".py",
      "mimetype": "text/x-python",
      "name": "python",
      "nbconvert_exporter": "python",
      "pygments_lexer": "ipython3",
      "version": "3.9.18"
    },
    "colab": {
      "provenance": [],
      "include_colab_link": true
    },
    "accelerator": "TPU"
  },
  "nbformat": 4,
  "nbformat_minor": 0
}