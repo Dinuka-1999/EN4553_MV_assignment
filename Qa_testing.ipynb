{
 "cells": [
  {
   "cell_type": "markdown",
   "metadata": {},
   "source": [
    "## Oxford IIIT pets dataset loadig and showing"
   ]
  },
  {
   "cell_type": "code",
   "execution_count": null,
   "metadata": {},
   "outputs": [],
   "source": [
    "import tensorflow as tf\n",
    "import tensorflow_datasets as tfds\n",
    "import matplotlib.pyplot as plt"
   ]
  },
  {
   "cell_type": "code",
   "execution_count": null,
   "metadata": {},
   "outputs": [],
   "source": [
    "\n",
    "train, test, =  tfds.load(\"oxford_iiit_pet\",split=[\"train\",\"test\"],as_supervised=True)\n",
    "info = tfds.builder(\"oxford_iiit_pet\").info\n",
    "\n",
    "a=0\n",
    "for image in train.take(1):\n",
    "    plt.figure()\n",
    "    plt.imshow(image[0])\n",
    "    plt.title(image[1])\n",
    "    plt.show()\n",
    "    print(image[0].shape)\n",
    "    # if a==10:break\n",
    "    # a+=1\n"
   ]
  },
  {
   "cell_type": "code",
   "execution_count": null,
   "metadata": {},
   "outputs": [],
   "source": [
    "resize_fn = tf.keras.layers.Resizing(150, 150)\n",
    "\n",
    "train_ds = train.map(lambda x, y: (resize_fn(x), y))"
   ]
  },
  {
   "cell_type": "code",
   "execution_count": null,
   "metadata": {},
   "outputs": [],
   "source": [
    "for r in train_ds.take(100):\n",
    "    plt.figure()\n",
    "    plt.imshow(r[0])\n",
    "    plt.title(r[1])\n",
    "    plt.show()\n",
    "    img=preprocess_input(r[0])\n",
    "    plt.imshow(img)\n",
    "    print(r[0].shape)"
   ]
  },
  {
   "cell_type": "code",
   "execution_count": null,
   "metadata": {},
   "outputs": [],
   "source": [
    "a=0\n",
    "for image,label in train:\n",
    "    plt.figure()\n",
    "    plt.imshow(image)\n",
    "    plt.title(label)\n",
    "    plt.show()\n",
    "\n",
    "    print(image.shape)\n",
    "    if a==10:break\n",
    "    a+=1"
   ]
  },
  {
   "cell_type": "markdown",
   "metadata": {},
   "source": [
    "## Load the base model"
   ]
  },
  {
   "cell_type": "code",
   "execution_count": 38,
   "metadata": {},
   "outputs": [],
   "source": [
    "from tensorflow import keras\n",
    "from keras import layers\n",
    "\n",
    "base_model = keras.applications.ResNet50(include_top=False, weights='imagenet',input_shape=(128,128,3))"
   ]
  }
 ],
 "metadata": {
  "kernelspec": {
   "display_name": "tf",
   "language": "python",
   "name": "python3"
  },
  "language_info": {
   "codemirror_mode": {
    "name": "ipython",
    "version": 3
   },
   "file_extension": ".py",
   "mimetype": "text/x-python",
   "name": "python",
   "nbconvert_exporter": "python",
   "pygments_lexer": "ipython3",
   "version": "3.9.18"
  }
 },
 "nbformat": 4,
 "nbformat_minor": 2
}
