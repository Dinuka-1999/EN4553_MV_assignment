{
 "cells": [
  {
   "cell_type": "markdown",
   "metadata": {},
   "source": [
    "## Oxford IIIT pets dataset loadig and showing"
   ]
  },
  {
   "cell_type": "code",
   "execution_count": null,
   "metadata": {},
   "outputs": [],
   "source": [
    "import tensorflow as tf\n",
    "import tensorflow_datasets as tfds\n",
    "import matplotlib.pyplot as plt"
   ]
  },
  {
   "cell_type": "code",
   "execution_count": null,
   "metadata": {},
   "outputs": [],
   "source": [
    "\n",
    "train, test, =  tfds.load(\"oxford_iiit_pet\",split=[\"train\",\"test\"],as_supervised=True)\n",
    "info = tfds.builder(\"oxford_iiit_pet\").info\n",
    "\n",
    "# a=0\n",
    "# for image in train.take(1):\n",
    "#     plt.figure()\n",
    "#     plt.imshow(image[0])\n",
    "#     plt.title(image[1])\n",
    "#     plt.show()\n",
    "#     print(image[0].shape)\n",
    "#     # if a==10:break\n",
    "#     # a+=1\n"
   ]
  },
  {
   "cell_type": "code",
   "execution_count": null,
   "metadata": {},
   "outputs": [],
   "source": [
    "#get the length of train\n",
    "list(train)"
   ]
  },
  {
   "cell_type": "code",
   "execution_count": 26,
   "metadata": {},
   "outputs": [
    {
     "name": "stdout",
     "output_type": "stream",
     "text": [
      "[2]\n",
      "[[0.         0.33333333 0.66666667]]\n"
     ]
    }
   ],
   "source": [
    "X = [[13],[0], [2], [1],[3],[10]]\n",
    "y = [2,0, 1, 0,1,2,]\n",
    "from sklearn.neighbors import KNeighborsClassifier\n",
    "neigh = KNeighborsClassifier(n_neighbors=3)\n",
    "neigh.fit(X, y)\n",
    "print(neigh.predict([[8]]))\n",
    "print(neigh.predict_proba([[9]]))"
   ]
  },
  {
   "cell_type": "code",
   "execution_count": null,
   "metadata": {},
   "outputs": [],
   "source": [
    "resize_fn = tf.keras.layers.Resizing(150, 150)\n",
    "\n",
    "train_ds = train.map(lambda x, y: (resize_fn(x), y))"
   ]
  },
  {
   "cell_type": "code",
   "execution_count": null,
   "metadata": {},
   "outputs": [],
   "source": [
    "for r in train_ds.take(100):\n",
    "    plt.figure()\n",
    "    plt.imshow(r[0])\n",
    "    plt.title(r[1])\n",
    "    plt.show()\n",
    "    img=preprocess_input(r[0])\n",
    "    plt.imshow(img)\n",
    "    print(r[0].shape)"
   ]
  },
  {
   "cell_type": "code",
   "execution_count": null,
   "metadata": {},
   "outputs": [],
   "source": [
    "a=0\n",
    "for image,label in train:\n",
    "    plt.figure()\n",
    "    plt.imshow(image)\n",
    "    plt.title(label)\n",
    "    plt.show()\n",
    "\n",
    "    print(image.shape)\n",
    "    if a==10:break\n",
    "    a+=1"
   ]
  },
  {
   "cell_type": "markdown",
   "metadata": {},
   "source": [
    "## Load the base model"
   ]
  },
  {
   "cell_type": "code",
   "execution_count": null,
   "metadata": {},
   "outputs": [],
   "source": [
    "from tensorflow import keras\n",
    "from keras import layers\n",
    "\n",
    "base_model = keras.applications.ResNet50(include_top=False, weights='imagenet',input_shape=(128,128,3))"
   ]
  }
 ],
 "metadata": {
  "kernelspec": {
   "display_name": "tf",
   "language": "python",
   "name": "python3"
  },
  "language_info": {
   "codemirror_mode": {
    "name": "ipython",
    "version": 3
   },
   "file_extension": ".py",
   "mimetype": "text/x-python",
   "name": "python",
   "nbconvert_exporter": "python",
   "pygments_lexer": "ipython3",
   "version": "3.9.18"
  }
 },
 "nbformat": 4,
 "nbformat_minor": 2
}
